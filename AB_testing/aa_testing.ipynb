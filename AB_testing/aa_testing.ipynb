{
 "cells": [
  {
   "cell_type": "markdown",
   "id": "6760d037",
   "metadata": {},
   "source": [
    "## <center>Проверка системы сплитования пользователей\n",
    "В лекции мы выяснили, что при проведении АА-теста было бы здорово убедиться в том, что наша система сплитования работает корректно, и ключевая метрика не отличается между группами не только в конкретно нашем АА-тесте, но и в целом.\n",
    "\n",
    "В идеале было бы здорово провести бесконечное количество АA-тестов и посмотреть, в каком количестве случаем нам удалось отклонить нулевую гипотезу. Если система сплитования работает корректно, то статистически значимые различия между двумя группами встречались бы только в результате случайного ложного срабатывания. Например, если мы отвергаем нулевую гипотезу при условии, что p_value < 0.05, то только приблизительно в 5% случаев у нас бы получались статистические значимые различия между 0 и 1 группой.\n",
    "\n",
    "Понятное дело, что на практике провести бесконечное число тестов у нас навряд ли получится, поэтому используется небольшой трюк! Мы будем многократно извлекать подвыборки из наших данных, проводить t-test, и в конце посмотрим, в каком проценте случаев нам удалось отклонить нулевую гипотезу.\n",
    "\n",
    "Итак, что нужно сделать: у нас есть данные АА-теста с '2022-12-25' по '2022-12-31'. Вам нужно сделать симуляцию, как будто мы провели 10000 АА-тестов. На каждой итерации вам нужно сформировать подвыборки без повторения в 500 юзеров из 2 и 3 экспериментальной группы. Провести сравнение этих подвыборок t-testом.\n",
    "\n",
    "1. Построить гистограмму распределения получившихся 10000 p-values.\n",
    "\n",
    "2. Посчитать, какой процент p values оказался меньше либо равен 0.05\n",
    "\n",
    "3. Написать вывод по проведенному АА-тесту, корректно ли работает наша система сплитования."
   ]
  },
  {
   "cell_type": "code",
   "execution_count": 2,
   "id": "8c8da125",
   "metadata": {},
   "outputs": [],
   "source": [
    "import pandahouse as ph\n",
    "import pandas as pd\n",
    "import seaborn as sns\n",
    "from scipy import stats"
   ]
  },
  {
   "cell_type": "code",
   "execution_count": 3,
   "id": "5256e995",
   "metadata": {},
   "outputs": [],
   "source": [
    "connection = {'host':'https://clickhouse.lab.karpov.courses',\n",
    "              'database':'simulator_20230120',\n",
    "             'user':'student',\n",
    "             'password':'dpo_python_2020'\n",
    "             }"
   ]
  },
  {
   "cell_type": "code",
   "execution_count": 4,
   "id": "d70e7e2f",
   "metadata": {},
   "outputs": [],
   "source": [
    "query = '''\n",
    "select exp_group, \n",
    "    user_id, \n",
    "    sum(action = 'like') likes,\n",
    "    sum(action = 'view') views,\n",
    "    likes/views ctr\n",
    "from {db}.feed_actions \n",
    "where toDate(time) between '2022-12-25' and '2022-12-31'\n",
    "    and exp_group in (2,3)\n",
    "group by exp_group, user_id \n",
    "'''"
   ]
  },
  {
   "cell_type": "code",
   "execution_count": 5,
   "id": "a309b595",
   "metadata": {},
   "outputs": [],
   "source": [
    "df = ph.read_clickhouse(query, connection=connection)"
   ]
  },
  {
   "cell_type": "code",
   "execution_count": 6,
   "id": "57e98267",
   "metadata": {},
   "outputs": [
    {
     "data": {
      "text/plain": [
       "(17049, 5)"
      ]
     },
     "execution_count": 6,
     "metadata": {},
     "output_type": "execute_result"
    }
   ],
   "source": [
    "df.shape"
   ]
  },
  {
   "cell_type": "code",
   "execution_count": 78,
   "id": "f4d9f586",
   "metadata": {
    "scrolled": true
   },
   "outputs": [
    {
     "data": {
      "text/html": [
       "<div>\n",
       "<style scoped>\n",
       "    .dataframe tbody tr th:only-of-type {\n",
       "        vertical-align: middle;\n",
       "    }\n",
       "\n",
       "    .dataframe tbody tr th {\n",
       "        vertical-align: top;\n",
       "    }\n",
       "\n",
       "    .dataframe thead th {\n",
       "        text-align: right;\n",
       "    }\n",
       "</style>\n",
       "<table border=\"1\" class=\"dataframe\">\n",
       "  <thead>\n",
       "    <tr style=\"text-align: right;\">\n",
       "      <th></th>\n",
       "      <th>exp_group</th>\n",
       "      <th>user_id</th>\n",
       "      <th>likes</th>\n",
       "      <th>views</th>\n",
       "      <th>ctr</th>\n",
       "    </tr>\n",
       "  </thead>\n",
       "  <tbody>\n",
       "    <tr>\n",
       "      <th>0</th>\n",
       "      <td>3</td>\n",
       "      <td>115383</td>\n",
       "      <td>11</td>\n",
       "      <td>36</td>\n",
       "      <td>0.305556</td>\n",
       "    </tr>\n",
       "    <tr>\n",
       "      <th>1</th>\n",
       "      <td>3</td>\n",
       "      <td>123580</td>\n",
       "      <td>15</td>\n",
       "      <td>92</td>\n",
       "      <td>0.163043</td>\n",
       "    </tr>\n",
       "    <tr>\n",
       "      <th>2</th>\n",
       "      <td>2</td>\n",
       "      <td>131473</td>\n",
       "      <td>26</td>\n",
       "      <td>148</td>\n",
       "      <td>0.175676</td>\n",
       "    </tr>\n",
       "    <tr>\n",
       "      <th>3</th>\n",
       "      <td>2</td>\n",
       "      <td>23985</td>\n",
       "      <td>12</td>\n",
       "      <td>66</td>\n",
       "      <td>0.181818</td>\n",
       "    </tr>\n",
       "    <tr>\n",
       "      <th>4</th>\n",
       "      <td>2</td>\n",
       "      <td>24523</td>\n",
       "      <td>17</td>\n",
       "      <td>120</td>\n",
       "      <td>0.141667</td>\n",
       "    </tr>\n",
       "  </tbody>\n",
       "</table>\n",
       "</div>"
      ],
      "text/plain": [
       "   exp_group  user_id  likes  views       ctr\n",
       "0          3   115383     11     36  0.305556\n",
       "1          3   123580     15     92  0.163043\n",
       "2          2   131473     26    148  0.175676\n",
       "3          2    23985     12     66  0.181818\n",
       "4          2    24523     17    120  0.141667"
      ]
     },
     "execution_count": 78,
     "metadata": {},
     "output_type": "execute_result"
    }
   ],
   "source": [
    "df.head()"
   ]
  },
  {
   "cell_type": "code",
   "execution_count": 79,
   "id": "21a6cda1",
   "metadata": {},
   "outputs": [
    {
     "data": {
      "text/html": [
       "<div>\n",
       "<style scoped>\n",
       "    .dataframe tbody tr th:only-of-type {\n",
       "        vertical-align: middle;\n",
       "    }\n",
       "\n",
       "    .dataframe tbody tr th {\n",
       "        vertical-align: top;\n",
       "    }\n",
       "\n",
       "    .dataframe thead th {\n",
       "        text-align: right;\n",
       "    }\n",
       "</style>\n",
       "<table border=\"1\" class=\"dataframe\">\n",
       "  <thead>\n",
       "    <tr style=\"text-align: right;\">\n",
       "      <th></th>\n",
       "      <th>user_id</th>\n",
       "      <th>likes</th>\n",
       "      <th>views</th>\n",
       "      <th>ctr</th>\n",
       "    </tr>\n",
       "    <tr>\n",
       "      <th>exp_group</th>\n",
       "      <th></th>\n",
       "      <th></th>\n",
       "      <th></th>\n",
       "      <th></th>\n",
       "    </tr>\n",
       "  </thead>\n",
       "  <tbody>\n",
       "    <tr>\n",
       "      <th>2</th>\n",
       "      <td>8480</td>\n",
       "      <td>8480</td>\n",
       "      <td>8480</td>\n",
       "      <td>8480</td>\n",
       "    </tr>\n",
       "    <tr>\n",
       "      <th>3</th>\n",
       "      <td>8569</td>\n",
       "      <td>8569</td>\n",
       "      <td>8569</td>\n",
       "      <td>8569</td>\n",
       "    </tr>\n",
       "  </tbody>\n",
       "</table>\n",
       "</div>"
      ],
      "text/plain": [
       "           user_id  likes  views   ctr\n",
       "exp_group                             \n",
       "2             8480   8480   8480  8480\n",
       "3             8569   8569   8569  8569"
      ]
     },
     "execution_count": 79,
     "metadata": {},
     "output_type": "execute_result"
    }
   ],
   "source": [
    "df.groupby('exp_group').count()"
   ]
  },
  {
   "cell_type": "markdown",
   "id": "87fd91ca",
   "metadata": {},
   "source": [
    "Количество пользователей в группах +- одинаковое."
   ]
  },
  {
   "cell_type": "code",
   "execution_count": 10,
   "id": "2d2d3d3c",
   "metadata": {},
   "outputs": [
    {
     "data": {
      "image/png": "[encoded data removed]",
      "text/plain": [
       "<Figure size 842.4x595.44 with 1 Axes>"
      ]
     },
     "metadata": {},
     "output_type": "display_data"
    }
   ],
   "source": [
    "sns.set(rc={'figure.figsize':(11.7,8.27)})\n",
    "g = sns.histplot(data = df,\n",
    "             x='ctr',\n",
    "             hue='exp_group',\n",
    "             palette = ['r', 'b'])"
   ]
  },
  {
   "cell_type": "markdown",
   "id": "f1a616d4",
   "metadata": {},
   "source": [
    "Визуально тестовая и контрольная группа похожи, распределение в обеих группах отдаленно напоминает нормальное, но имеющее длинный хвост справа, слегка скошено влево и небольшое количество выбросов."
   ]
  },
  {
   "cell_type": "markdown",
   "id": "9dce0fa3",
   "metadata": {},
   "source": [
    "**Выполним t-test Стьюдента:**   \n",
    "\n",
    "- Нулевая гипотеза: $H_0: \\mu_1=\\mu_2$\n",
    " \n",
    "\n",
    "- Альтернативная гипотеза $H_0: \\mu_1\\neq\\mu_2$ \n"
   ]
  },
  {
   "cell_type": "code",
   "execution_count": 11,
   "id": "0cbfb9df",
   "metadata": {
    "scrolled": true
   },
   "outputs": [
    {
     "data": {
      "text/plain": [
       "Ttest_indResult(statistic=-0.7393597924958364, pvalue=0.45969873156476293)"
      ]
     },
     "execution_count": 11,
     "metadata": {},
     "output_type": "execute_result"
    }
   ],
   "source": [
    "stats.ttest_ind(df[df['exp_group']==2].ctr, \n",
    "                df[df['exp_group']==3].ctr, \n",
    "                equal_var=False)"
   ]
  },
  {
   "cell_type": "markdown",
   "id": "e58dd1d7",
   "metadata": {},
   "source": [
    "Результат p-value ~ 0.46, это очень много, вероятность ошибки первого рода очень велика. Потдверждается нулевая теория о равенстве средних, различия в выборках статистически незначимы."
   ]
  },
  {
   "cell_type": "markdown",
   "id": "d0da05d5",
   "metadata": {},
   "source": [
    "**Выполним U test Манна-Уитни:**   \n",
    "- Нулевая гипотеза $H_0: P(X>Y) = P(Y>X)$\n",
    "\n",
    "- Альтернативная гипотеза $H_1: P(X>Y) \\not= P(Y>X)$\n"
   ]
  },
  {
   "cell_type": "code",
   "execution_count": 12,
   "id": "4bdb5b2c",
   "metadata": {},
   "outputs": [
    {
     "data": {
      "text/plain": [
       "MannwhitneyuResult(statistic=36124728.5, pvalue=0.5177480614337441)"
      ]
     },
     "execution_count": 12,
     "metadata": {},
     "output_type": "execute_result"
    }
   ],
   "source": [
    "stats.mannwhitneyu(df[df.exp_group == 2].ctr,\n",
    "                df[df.exp_group == 3].ctr)"
   ]
  },
  {
   "cell_type": "markdown",
   "id": "5471402a",
   "metadata": {},
   "source": [
    "По результатам теста Манна-Уитни можем принять $H_0$. Различия в выборках статистически незначимы.\n"
   ]
  },
  {
   "cell_type": "markdown",
   "id": "c9b3d9f5",
   "metadata": {},
   "source": [
    "**Симуляция 10000 АА-тестов со случайными подвыборками без повторения в 500 юзеров из 2 и 3 экспериментальной группы. Проведение для этих подвыборок t теста.**"
   ]
  },
  {
   "cell_type": "code",
   "execution_count": 13,
   "id": "33d0fe2c",
   "metadata": {},
   "outputs": [],
   "source": [
    "p_vals = []\n",
    "for i in range(10000):\n",
    "    a = df[df['exp_group']==2].ctr.sample(500, replace=False)\n",
    "    b = df[df['exp_group']==3].ctr.sample(500, replace=False)\n",
    "    p_vals.append(stats.ttest_ind(a, b, equal_var=False)[1])"
   ]
  },
  {
   "cell_type": "markdown",
   "id": "06f6f7d5",
   "metadata": {},
   "source": [
    "Построим гистограмму распределения получившихся 10000 p-values."
   ]
  },
  {
   "cell_type": "code",
   "execution_count": 25,
   "id": "2712b1fa",
   "metadata": {},
   "outputs": [
    {
     "data": {
      "image/png": "[encoded data removed]",
      "text/plain": [
       "<Figure size 842.4x595.44 with 1 Axes>"
      ]
     },
     "metadata": {},
     "output_type": "display_data"
    }
   ],
   "source": [
    "gr = sns.histplot(p_vals, \n",
    "                  bins = 50, \n",
    "                  edgecolor = \"0.1\")"
   ]
  },
  {
   "cell_type": "markdown",
   "id": "ee1060de",
   "metadata": {},
   "source": [
    "P-value распределены приблизительно равномерно."
   ]
  },
  {
   "cell_type": "code",
   "execution_count": 19,
   "id": "536800f4-9113-462e-9a2b-71d792cb9b72",
   "metadata": {},
   "outputs": [],
   "source": [
    "# считаем длину отфильтрованного списка с значениями p values <= 0.05\n",
    "n = len(list(filter(lambda i: i <= 0.05, p_vals)))"
   ]
  },
  {
   "cell_type": "code",
   "execution_count": 20,
   "id": "15c8cc62",
   "metadata": {},
   "outputs": [
    {
     "name": "stdout",
     "output_type": "stream",
     "text": [
      "4.6899999999999995% p values оказались меньше либо равны 0.05.\n"
     ]
    }
   ],
   "source": [
    "print(f\"{n / len(p_vals) * 100}% p values оказались меньше либо равны 0.05.\")"
   ]
  },
  {
   "cell_type": "markdown",
   "id": "a61c222b",
   "metadata": {},
   "source": [
    "## Вывод"
   ]
  },
  {
   "cell_type": "markdown",
   "id": "f2c68ee2",
   "metadata": {},
   "source": [
    "Система сплитования работает корректно, наш AA тест сходится - можем начинать AB тестирование на группах 2 и 3.   \n",
    "Более того, из 1000 итераций t теста для двух случайных подвыборок **без повторения** в 500 юзеров из 2 и 3 экспериментальной группы всего в 4.74% случаев значение p-value оказалось ниже или равно 0.05, что ниже уровня значимости в 5%. На основе этого можно сделать вывод, что подвыборка в 500 случайных юзеров с вероятностью 95,26% будет содержать все признаки генеральной совокупности выборки в 8600 юзеров и тем самым при текущей системе сплитования, мы можем уверенно тестировать новый функционал на значительно более малых выборках. Это позволит нам в реальных условиях снизить ризки внедрения неоптимального функционала и позоволит ускорить время проведения AB теста."
   ]
  }
 ],
 "metadata": {
  "kernelspec": {
   "display_name": "Python 3 (ipykernel)",
   "language": "python",
   "name": "python3"
  },
  "language_info": {
   "codemirror_mode": {
    "name": "ipython",
    "version": 3
   },
   "file_extension": ".py",
   "mimetype": "text/x-python",
   "name": "python",
   "nbconvert_exporter": "python",
   "pygments_lexer": "ipython3",
   "version": "3.8.10"
  }
 },
 "nbformat": 4,
 "nbformat_minor": 5
}
