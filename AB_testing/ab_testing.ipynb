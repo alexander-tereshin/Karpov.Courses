{
 "cells": [
  {
   "cell_type": "markdown",
   "id": "3b988269",
   "metadata": {},
   "source": [
    "## <center>A/B-тестирование"
   ]
  },
  {
   "cell_type": "markdown",
   "id": "ea853844",
   "metadata": {},
   "source": [
    "Пришло время проанализировать результаты эксперимента, который мы провели вместе с командой дата сайентистов. Эксперимент проходил с 2023-01-01 по 2023-01-07 включительно. Для эксперимента были задействованы 2 и 1 группы. \n",
    "\n",
    "В группе 2 был использован один из новых алгоритмов рекомендации постов, группа 1 использовалась в качестве контроля. \n",
    "\n",
    "Основная гипотеза заключается в том, что новый алгоритм во 2-й группе приведет к увеличению CTR. \n",
    "\n",
    "Ваша задача — проанализировать данные АB-теста. \n",
    "\n",
    "1. Выбрать метод анализа и сравнить CTR в двух группах, мы разбирали:\n",
    "* t-тест;\n",
    "* Пуассоновский бутстреп;\n",
    "* тест Манна-Уитни;\n",
    "* t-тест на сглаженном ctr (α=5);\n",
    "* t-тест и тест Манна-Уитни поверх бакетного преобразования. \n",
    "\n",
    "2. Сравните данные этими тестами. А еще посмотрите на распределения глазами. Почему тесты сработали так как сработали? \n",
    "3. Опишите потенциальную ситуацию, когда такое изменение могло произойти. Тут нет идеального ответа, подумайте.\n",
    "4. Напишите рекомендацию, будем ли мы раскатывать новый алгоритм на всех новых пользователей или все-таки не стоит."
   ]
  },
  {
   "cell_type": "code",
   "execution_count": 1,
   "id": "3631301f",
   "metadata": {},
   "outputs": [],
   "source": [
    "import pandahouse as ph\n",
    "import pandas as pd\n",
    "import numpy as np\n",
    "import seaborn as sns\n",
    "import matplotlib.pyplot as plt\n",
    "from scipy import stats"
   ]
  },
  {
   "cell_type": "code",
   "execution_count": 2,
   "id": "79d61872",
   "metadata": {},
   "outputs": [],
   "source": [
    "connection = {'host':'https://clickhouse.lab.karpov.courses',\n",
    "              'database':'simulator_20230120',\n",
    "             'user':'student',\n",
    "             'password':'dpo_python_2020'\n",
    "             }"
   ]
  },
  {
   "cell_type": "code",
   "execution_count": 3,
   "id": "102c4804",
   "metadata": {},
   "outputs": [],
   "source": [
    "query = '''\n",
    "select exp_group, \n",
    "    user_id, \n",
    "    sum(action = 'like') likes,\n",
    "    sum(action = 'view') views,\n",
    "    likes/views ctr\n",
    "from {db}.feed_actions \n",
    "where toDate(time) between '2023-01-01' and '2023-01-07'\n",
    "    and exp_group in (1,2)\n",
    "group by exp_group, user_id \n",
    "'''"
   ]
  },
  {
   "cell_type": "code",
   "execution_count": 4,
   "id": "3e906bca",
   "metadata": {},
   "outputs": [],
   "source": [
    "df = ph.read_clickhouse(query, connection = connection)"
   ]
  },
  {
   "cell_type": "code",
   "execution_count": 5,
   "id": "0eb2b2da",
   "metadata": {},
   "outputs": [
    {
     "data": {
      "text/plain": [
       "(20031, 5)"
      ]
     },
     "execution_count": 5,
     "metadata": {},
     "output_type": "execute_result"
    }
   ],
   "source": [
    "df.shape"
   ]
  },
  {
   "cell_type": "code",
   "execution_count": 6,
   "id": "7de5d98d",
   "metadata": {},
   "outputs": [
    {
     "data": {
      "text/html": [
       "<div>\n",
       "<style scoped>\n",
       "    .dataframe tbody tr th:only-of-type {\n",
       "        vertical-align: middle;\n",
       "    }\n",
       "\n",
       "    .dataframe tbody tr th {\n",
       "        vertical-align: top;\n",
       "    }\n",
       "\n",
       "    .dataframe thead th {\n",
       "        text-align: right;\n",
       "    }\n",
       "</style>\n",
       "<table border=\"1\" class=\"dataframe\">\n",
       "  <thead>\n",
       "    <tr style=\"text-align: right;\">\n",
       "      <th></th>\n",
       "      <th>exp_group</th>\n",
       "      <th>user_id</th>\n",
       "      <th>likes</th>\n",
       "      <th>views</th>\n",
       "      <th>ctr</th>\n",
       "    </tr>\n",
       "  </thead>\n",
       "  <tbody>\n",
       "    <tr>\n",
       "      <th>0</th>\n",
       "      <td>1</td>\n",
       "      <td>109963</td>\n",
       "      <td>3</td>\n",
       "      <td>15</td>\n",
       "      <td>0.200000</td>\n",
       "    </tr>\n",
       "    <tr>\n",
       "      <th>1</th>\n",
       "      <td>1</td>\n",
       "      <td>26117</td>\n",
       "      <td>32</td>\n",
       "      <td>141</td>\n",
       "      <td>0.226950</td>\n",
       "    </tr>\n",
       "    <tr>\n",
       "      <th>2</th>\n",
       "      <td>1</td>\n",
       "      <td>138232</td>\n",
       "      <td>18</td>\n",
       "      <td>73</td>\n",
       "      <td>0.246575</td>\n",
       "    </tr>\n",
       "    <tr>\n",
       "      <th>3</th>\n",
       "      <td>1</td>\n",
       "      <td>26295</td>\n",
       "      <td>33</td>\n",
       "      <td>122</td>\n",
       "      <td>0.270492</td>\n",
       "    </tr>\n",
       "    <tr>\n",
       "      <th>4</th>\n",
       "      <td>1</td>\n",
       "      <td>18392</td>\n",
       "      <td>7</td>\n",
       "      <td>32</td>\n",
       "      <td>0.218750</td>\n",
       "    </tr>\n",
       "  </tbody>\n",
       "</table>\n",
       "</div>"
      ],
      "text/plain": [
       "   exp_group  user_id  likes  views       ctr\n",
       "0          1   109963      3     15  0.200000\n",
       "1          1    26117     32    141  0.226950\n",
       "2          1   138232     18     73  0.246575\n",
       "3          1    26295     33    122  0.270492\n",
       "4          1    18392      7     32  0.218750"
      ]
     },
     "execution_count": 6,
     "metadata": {},
     "output_type": "execute_result"
    }
   ],
   "source": [
    "df.head()"
   ]
  },
  {
   "cell_type": "markdown",
   "id": "57601cd6",
   "metadata": {},
   "source": [
    "Посмотрим на размер групп и основные описательные статистики:"
   ]
  },
  {
   "cell_type": "code",
   "execution_count": 7,
   "id": "805a3806",
   "metadata": {},
   "outputs": [
    {
     "data": {
      "text/plain": [
       "count    10079.000000\n",
       "mean         0.215605\n",
       "std          0.084160\n",
       "min          0.000000\n",
       "25%          0.160097\n",
       "50%          0.203125\n",
       "75%          0.257654\n",
       "max          0.722222\n",
       "Name: ctr, dtype: float64"
      ]
     },
     "execution_count": 7,
     "metadata": {},
     "output_type": "execute_result"
    }
   ],
   "source": [
    "df[df['exp_group']==1].ctr.describe()"
   ]
  },
  {
   "cell_type": "code",
   "execution_count": 8,
   "id": "38676726",
   "metadata": {},
   "outputs": [
    {
     "data": {
      "text/plain": [
       "count    9952.000000\n",
       "mean        0.214419\n",
       "std         0.144180\n",
       "min         0.000000\n",
       "25%         0.095238\n",
       "50%         0.142857\n",
       "75%         0.325000\n",
       "max         0.923077\n",
       "Name: ctr, dtype: float64"
      ]
     },
     "execution_count": 8,
     "metadata": {},
     "output_type": "execute_result"
    }
   ],
   "source": [
    "df[df['exp_group']==2].ctr.describe()"
   ]
  },
  {
   "cell_type": "markdown",
   "id": "0dd538a6",
   "metadata": {},
   "source": [
    "Количество наблюдений в каждой из выборок достаточно большое ~ 10000. **Средние у групп практически одинановые**, но вот у второй выборки (тестовой) значение стандартного отклонения составляет 3/4 от среднего, что говорит нам о большом разбросе значений наблюдений во второй группе. А если средние CTR в выборках схожи, значит скорее всего, **применение нового ML алгоритма не увеличило эту метрику.**\n",
    "Продолжим исследование."
   ]
  },
  {
   "cell_type": "markdown",
   "id": "a15bdc8e",
   "metadata": {},
   "source": [
    "Построим гистограмму распределения значений CTR для двух групп:"
   ]
  },
  {
   "cell_type": "code",
   "execution_count": 9,
   "id": "98966b16",
   "metadata": {},
   "outputs": [
    {
     "data": {
      "image/png": "[encoded data removed]",
      "text/plain": [
       "<Figure size 864x576 with 1 Axes>"
      ]
     },
     "metadata": {},
     "output_type": "display_data"
    }
   ],
   "source": [
    "sns.set(rc={'figure.figsize':(12,8)})\n",
    "g = sns.histplot(data = df,\n",
    "                 x='ctr',\n",
    "                 hue='exp_group',\n",
    "                 palette = ['r', 'b'],\n",
    "                 bins = 100)"
   ]
  },
  {
   "cell_type": "markdown",
   "id": "087d7caa",
   "metadata": {},
   "source": [
    "Распределение CTR в первой контрольной группе напоминает нормальное, но с небольшим перекосом влево и более длинными правым хвостом.  \n",
    "А вот распределение CTR во второй контрольной группе уже получилось с явной бимодальностью. Скорее всего это означает противоположность мнений по отношению к постам. Выборка не является однородной и наблюдения порождены двумя \"наложенными\" распределениями.   \n",
    "**С такой выборкой t тест применять нельзя, так как он скорее всего не прокрасится и породит ошибку второго рода.**"
   ]
  },
  {
   "cell_type": "markdown",
   "id": "82d7574e",
   "metadata": {},
   "source": [
    "Проведем в рамках эксперимента тест Стьюдента и Манна-Уитни. **Стоит учесть что гипотеза одностороняя:**"
   ]
  },
  {
   "cell_type": "markdown",
   "id": "0b79987f",
   "metadata": {},
   "source": [
    "### Тест Стьюдента:"
   ]
  },
  {
   "cell_type": "markdown",
   "id": "044e56c0",
   "metadata": {},
   "source": [
    "* $H_0$ - средние значения CTR в контрольной и экспериментальной группaх равны.  \n",
    "* $H_1$ - средние значения CTR в тестовой группе выше, чем в контрольной."
   ]
  },
  {
   "cell_type": "code",
   "execution_count": 10,
   "id": "71feafa9",
   "metadata": {},
   "outputs": [
    {
     "data": {
      "text/plain": [
       "Ttest_indResult(statistic=0.7094392041270486, pvalue=0.7609688434562533)"
      ]
     },
     "execution_count": 10,
     "metadata": {},
     "output_type": "execute_result"
    }
   ],
   "source": [
    "stats.ttest_ind(df[df['exp_group']==1].ctr, \n",
    "                df[df['exp_group']==2].ctr, \n",
    "                equal_var=False,\n",
    "                alternative='less')"
   ]
  },
  {
   "cell_type": "markdown",
   "id": "9bce1418",
   "metadata": {},
   "source": [
    "Проверим обратную альтернативную гипотезу:  \n",
    "* $H_0$  - средние значения CTR в контрольной и экспериментальной группaх равны.  \n",
    "* $H_1$  - средние значения CTR в тестовой группе ниже, чем в контрольной.  "
   ]
  },
  {
   "cell_type": "code",
   "execution_count": 11,
   "id": "adbe141b",
   "metadata": {},
   "outputs": [
    {
     "data": {
      "text/plain": [
       "Ttest_indResult(statistic=0.7094392041270486, pvalue=0.23903115654374674)"
      ]
     },
     "execution_count": 11,
     "metadata": {},
     "output_type": "execute_result"
    }
   ],
   "source": [
    "stats.ttest_ind(df[df['exp_group']==1].ctr, \n",
    "                df[df['exp_group']==2].ctr, \n",
    "                equal_var=False,\n",
    "                alternative='greater')"
   ]
  },
  {
   "cell_type": "markdown",
   "id": "1b997864",
   "metadata": {},
   "source": [
    "### Тест Манна-Уитни:\n",
    "\n",
    "- Нулевая гипотеза $H_0: P(X>Y) = P(Y>X)$\n",
    "\n",
    "- Альтернативная гипотеза $H_1: P(X>Y) < P(Y>X)$"
   ]
  },
  {
   "cell_type": "code",
   "execution_count": 12,
   "id": "7a9bf511",
   "metadata": {},
   "outputs": [
    {
     "data": {
      "text/plain": [
       "MannwhitneyuResult(statistic=43704947.5, pvalue=1.0)"
      ]
     },
     "execution_count": 12,
     "metadata": {},
     "output_type": "execute_result"
    }
   ],
   "source": [
    "stats.mannwhitneyu(df[df.exp_group == 2].ctr,\n",
    "                   df[df.exp_group == 1].ctr,\n",
    "                   alternative='greater')"
   ]
  },
  {
   "cell_type": "markdown",
   "id": "2969ded3",
   "metadata": {},
   "source": [
    "Проверим обратную альтернативную гипотезу:\n",
    "- Альтернативная гипотеза $H_1: P(X>Y) > P(Y>X)$"
   ]
  },
  {
   "cell_type": "code",
   "execution_count": 13,
   "id": "6a2b706a",
   "metadata": {},
   "outputs": [
    {
     "data": {
      "text/plain": [
       "MannwhitneyuResult(statistic=43704947.5, pvalue=3.0188242308889518e-56)"
      ]
     },
     "execution_count": 13,
     "metadata": {},
     "output_type": "execute_result"
    }
   ],
   "source": [
    "stats.mannwhitneyu(df[df.exp_group == 2].ctr,\n",
    "                   df[df.exp_group == 1].ctr,\n",
    "                   alternative='less')"
   ]
  },
  {
   "cell_type": "markdown",
   "id": "c7dbb447",
   "metadata": {},
   "source": [
    "Как и ожидалось, **тест Стьюдента не прокрасился из-за заложенного в t статистику сравнения среднего выборок**, а они в двух выборках практически идентичны.  \n",
    "А вот **тест Манна-Уитни** учитывает расположение элементов выборок относительно друг друга (однородность распределений), а не значения элементов. Поэтому он и не зависит от средних выборок и **показал наличие статистически значимых различий в выборках**.   \n",
    "\n",
    "Что касается гипотезы, то подтверждается обратная альтернативная гипотеза: **вероятность получения случайного числа CTR из контрольной группы большего по значению, чем случайного числа CTR из тестовой группы выше, чем вероятность получения случайного числа CTR из контрольной группы меньшего по значению, чем случайного числа CTR из тестовой группы.**"
   ]
  },
  {
   "cell_type": "markdown",
   "id": "94383d62",
   "metadata": {},
   "source": [
    "## <center>Сглаженный CTR\n",
    "Проверим качество CTR в выборках по количеству просмотров на пользователя:"
   ]
  },
  {
   "cell_type": "code",
   "execution_count": 14,
   "id": "9cd131c2",
   "metadata": {},
   "outputs": [
    {
     "data": {
      "text/plain": [
       "count    9952.000000\n",
       "mean       66.148513\n",
       "std        45.151210\n",
       "min         1.000000\n",
       "25%        32.000000\n",
       "50%        56.000000\n",
       "75%        91.000000\n",
       "max       321.000000\n",
       "Name: views, dtype: float64"
      ]
     },
     "execution_count": 14,
     "metadata": {},
     "output_type": "execute_result"
    }
   ],
   "source": [
    "df[df['exp_group']==2].views.describe()"
   ]
  },
  {
   "cell_type": "code",
   "execution_count": 15,
   "id": "74c2861a",
   "metadata": {},
   "outputs": [
    {
     "data": {
      "text/plain": [
       "count    10079.000000\n",
       "mean        66.299831\n",
       "std         45.043411\n",
       "min          2.000000\n",
       "25%         32.000000\n",
       "50%         56.000000\n",
       "75%         90.000000\n",
       "max        311.000000\n",
       "Name: views, dtype: float64"
      ]
     },
     "execution_count": 15,
     "metadata": {},
     "output_type": "execute_result"
    }
   ],
   "source": [
    "df[df['exp_group']==1].views.describe()"
   ]
  },
  {
   "cell_type": "markdown",
   "id": "751858b1",
   "metadata": {},
   "source": [
    "CTR в обеих группах сильно зашумлен данными от пользователей с низким количеством просмотров. **В двух группах 75-й процентиль это ~ 90 просмотров на юзера!**.\n",
    "Такого количества просмотров недостаточно для точной оценки CTR. **Применение процедуры сглаживания Лапласа к метрике CTR обосновано**."
   ]
  },
  {
   "cell_type": "markdown",
   "id": "3e4c8340",
   "metadata": {},
   "source": [
    "\n",
    "<center>$smoothed CTR_u = \\dfrac{clicks_u+\\alpha*globalCTR}{views_u + \\alpha}$\n",
    "\n",
    " \n",
    "\n",
    "Где $\\alpha$ — гиперпараметр.   \n",
    "\n",
    "Идея проста: когда просмотров много, сглаженный CTR почти равен CTR пользователя. Когда просмотров мало, сглаженный CTR почти равен общегрупповому CTR. Иначе говоря, если у пользователя много просмотров, мы можем быть уверены, что клики / просмотры — хорошая оценка его CTR, а когда у пользователя просмотров мало, мы устанавливаем в качестве оценки общегрупповой CTR."
   ]
  },
  {
   "cell_type": "code",
   "execution_count": 16,
   "id": "426e4fe9",
   "metadata": {},
   "outputs": [],
   "source": [
    "# Функция для получения сглаженного CTR:\n",
    "def get_smoothed_ctr(user_likes, user_views, global_ctr, alpha = 5):\n",
    "    '''Гиперпараметр alpha задан по условию и равен 5'''\n",
    "    smoothed_ctr = (user_likes + alpha * global_ctr) / (user_views + alpha)\n",
    "    return smoothed_ctr"
   ]
  },
  {
   "cell_type": "code",
   "execution_count": 17,
   "id": "f02b7021",
   "metadata": {},
   "outputs": [],
   "source": [
    "global_ctr_1 = df[df.exp_group == 1].likes.sum()/df[df.exp_group == 1].views.sum()\n",
    "global_ctr_2 = df[df.exp_group == 2].likes.sum()/df[df.exp_group == 2].views.sum()"
   ]
  },
  {
   "cell_type": "code",
   "execution_count": 18,
   "id": "a22c6463",
   "metadata": {},
   "outputs": [],
   "source": [
    "df.loc[df['exp_group'] == 1, 'smoothed_ctr'] = df.apply(lambda x: get_smoothed_ctr(x['likes'], x['views'], global_ctr_1), axis=1)\n",
    "\n",
    "df.loc[df['exp_group'] == 2, 'smoothed_ctr'] = df.apply(lambda x: get_smoothed_ctr(x['likes'], x['views'], global_ctr_2), axis=1)"
   ]
  },
  {
   "cell_type": "markdown",
   "id": "2afb9fcf",
   "metadata": {},
   "source": [
    "Построим гистограмму распределения значений CTR до и после сглаживания Лапласа:"
   ]
  },
  {
   "cell_type": "code",
   "execution_count": 19,
   "id": "a39ce9e2",
   "metadata": {},
   "outputs": [
    {
     "data": {
      "text/plain": [
       "Text(0.5, 1.0, 'CTR после сглаживания')"
      ]
     },
     "execution_count": 19,
     "metadata": {},
     "output_type": "execute_result"
    },
    {
     "data": {
      "image/png": "[encoded data removed]",
      "text/plain": [
       "<Figure size 2160x1080 with 2 Axes>"
      ]
     },
     "metadata": {},
     "output_type": "display_data"
    }
   ],
   "source": [
    "fig, axes = plt.subplots(1, 2, figsize=(30,15))\n",
    "fig.suptitle('Распределение CTR до и после сглаживания Лапласа')\n",
    "sns.histplot(ax=axes[0],\n",
    "             data = df,\n",
    "             x='ctr',\n",
    "             hue='exp_group',\n",
    "             palette = ['r', 'b'],\n",
    "             bins = 100)\n",
    "axes[0].set_title('CTR до сглаживания')\n",
    "sns.histplot(ax=axes[1],\n",
    "             data = df,\n",
    "             x='smoothed_ctr',\n",
    "             hue='exp_group',\n",
    "             palette = ['r', 'b'],\n",
    "             bins = 100)\n",
    "axes[1].set_title('CTR после сглаживания')"
   ]
  },
  {
   "cell_type": "markdown",
   "id": "2383aeb9",
   "metadata": {},
   "source": [
    "Заметно что пропали выбросы с нулевыми CTR, сами распределения сгладились и немного сместились влево."
   ]
  },
  {
   "cell_type": "markdown",
   "id": "5dd7bbce",
   "metadata": {},
   "source": [
    "### Проведем t тест Стьюдента на сглаженных CTR:\n",
    "* $H_0$ - средние значения CTR в контрольной и экспериментальной группaх равны.  \n",
    "* $H_1$ - средние значения CTR в тестовой группе выше, чем в контрольной."
   ]
  },
  {
   "cell_type": "code",
   "execution_count": 20,
   "id": "ea76d057",
   "metadata": {},
   "outputs": [
    {
     "data": {
      "text/plain": [
       "Ttest_indResult(statistic=-2.2841320431616983, pvalue=0.9888115092220721)"
      ]
     },
     "execution_count": 20,
     "metadata": {},
     "output_type": "execute_result"
    }
   ],
   "source": [
    "stats.ttest_ind(df[df['exp_group']==2].smoothed_ctr, \n",
    "                df[df['exp_group']==1].smoothed_ctr, \n",
    "                equal_var=False,\n",
    "                alternative='greater')"
   ]
  },
  {
   "cell_type": "markdown",
   "id": "c7b0b2a9",
   "metadata": {},
   "source": [
    "Проверим обратную альтернативную гипотезу:  \n",
    "* $H_0$  - средние значения CTR в контрольной и экспериментальной группaх равны.  \n",
    "* $H_1$  - средние значения CTR в тестовой группе ниже, чем в контрольной.  "
   ]
  },
  {
   "cell_type": "code",
   "execution_count": 21,
   "id": "c5da08bf",
   "metadata": {},
   "outputs": [
    {
     "data": {
      "text/plain": [
       "Ttest_indResult(statistic=-2.2841320431616983, pvalue=0.01118849077792795)"
      ]
     },
     "execution_count": 21,
     "metadata": {},
     "output_type": "execute_result"
    }
   ],
   "source": [
    "stats.ttest_ind(df[df['exp_group']==2].smoothed_ctr, \n",
    "                df[df['exp_group']==1].smoothed_ctr, \n",
    "                equal_var=False,\n",
    "                alternative='less')"
   ]
  },
  {
   "cell_type": "markdown",
   "id": "1bd5d8df",
   "metadata": {},
   "source": [
    "**Тест прокрасился!**"
   ]
  },
  {
   "cell_type": "markdown",
   "id": "ff42cd0c",
   "metadata": {},
   "source": [
    "Посмотрим, как изменилась разница среднего CTR контрольной и тестовых выборок после сглаживания:"
   ]
  },
  {
   "cell_type": "code",
   "execution_count": 22,
   "id": "6223f0ee",
   "metadata": {},
   "outputs": [
    {
     "name": "stdout",
     "output_type": "stream",
     "text": [
      "0.0011853249381691133 0.0032859410562490754\n"
     ]
    }
   ],
   "source": [
    "mean_ctr_before = df[df['exp_group']==1].ctr.mean()-df[df['exp_group']==2].ctr.mean()\n",
    "mean_ctr_after =  df[df['exp_group']==1].smoothed_ctr.mean()-df[df['exp_group']==2].smoothed_ctr.mean()\n",
    "print(mean_ctr_before, mean_ctr_after)"
   ]
  },
  {
   "cell_type": "code",
   "execution_count": 23,
   "id": "a138c130",
   "metadata": {},
   "outputs": [
    {
     "data": {
      "text/plain": [
       "2.7721858795315937"
      ]
     },
     "execution_count": 23,
     "metadata": {},
     "output_type": "execute_result"
    }
   ],
   "source": [
    "mean_ctr_after / mean_ctr_before"
   ]
  },
  {
   "cell_type": "markdown",
   "id": "b15ac249",
   "metadata": {},
   "source": [
    "**Разница средних значений CTR в тестовой выборке после сглаживания Лапласа увеличилась в 2.7 раз!**"
   ]
  },
  {
   "cell_type": "markdown",
   "id": "8253d5b2",
   "metadata": {},
   "source": [
    "Проверим измнение стандартных отклонений:"
   ]
  },
  {
   "cell_type": "code",
   "execution_count": 24,
   "id": "a1d0052b",
   "metadata": {},
   "outputs": [
    {
     "name": "stdout",
     "output_type": "stream",
     "text": [
      "0.08415951942281481 0.07136807186660156\n"
     ]
    }
   ],
   "source": [
    "print(df[df['exp_group']==1].ctr.std(), df[df['exp_group']==1].smoothed_ctr.std())"
   ]
  },
  {
   "cell_type": "code",
   "execution_count": 25,
   "id": "c91ee572",
   "metadata": {
    "scrolled": true
   },
   "outputs": [
    {
     "name": "stdout",
     "output_type": "stream",
     "text": [
      "0.14417998415658578 0.12476776857845215\n"
     ]
    }
   ],
   "source": [
    "print(df[df['exp_group']==2].ctr.std(), df[df['exp_group']==2].smoothed_ctr.std())"
   ]
  },
  {
   "cell_type": "markdown",
   "id": "c890e44e",
   "metadata": {},
   "source": [
    "После сглаживания Лапласа стандартное отклонение CTR в обеих выборках уменьшилось на ~ 15%"
   ]
  },
  {
   "cell_type": "markdown",
   "id": "8b2ae44d",
   "metadata": {},
   "source": [
    "*Из-за увеличения разности средних в три раза и уменьшения стандартного отклонения уменьшились оценки дисперсии. Это и дало увлечение t критерия в три раза, что и снизило p value.*"
   ]
  },
  {
   "cell_type": "markdown",
   "id": "b9edcc82",
   "metadata": {},
   "source": [
    "**Вывод: применение сглаживания Лапласа для метрики CTR позволило увеличить чувствительность t критерия и обнаружить статистически значимую разницу в группах.**   \n",
    "\n",
    "Однако теоретической гарантии, что его направленность совпадает с направленностью общего количества кликов, нет и применять такой метод следует только на свой страх и риск."
   ]
  },
  {
   "cell_type": "markdown",
   "id": "bf7d4d48",
   "metadata": {},
   "source": [
    "### Проведем Тест Манна-Уитни на сглаженных CTR:"
   ]
  },
  {
   "cell_type": "code",
   "execution_count": 26,
   "id": "a9bea674",
   "metadata": {},
   "outputs": [
    {
     "data": {
      "text/plain": [
       "MannwhitneyuResult(statistic=43381083.0, pvalue=1.0)"
      ]
     },
     "execution_count": 26,
     "metadata": {},
     "output_type": "execute_result"
    }
   ],
   "source": [
    "stats.mannwhitneyu(df[df.exp_group == 2].smoothed_ctr,\n",
    "                   df[df.exp_group == 1].smoothed_ctr,\n",
    "                   alternative='greater')"
   ]
  },
  {
   "cell_type": "code",
   "execution_count": 27,
   "id": "a8d4231a",
   "metadata": {},
   "outputs": [
    {
     "data": {
      "text/plain": [
       "MannwhitneyuResult(statistic=43381083.0, pvalue=8.081982057135114e-62)"
      ]
     },
     "execution_count": 27,
     "metadata": {},
     "output_type": "execute_result"
    }
   ],
   "source": [
    "stats.mannwhitneyu(df[df.exp_group == 2].smoothed_ctr,\n",
    "                   df[df.exp_group == 1].smoothed_ctr,\n",
    "                   alternative='less')"
   ]
  },
  {
   "cell_type": "markdown",
   "id": "c4ef001a",
   "metadata": {},
   "source": [
    "**Вывод: Как и ожидалось, тест Манна-Уитни показал наличие статистически значимых различий в выборках сглаженных CTR.**  \n",
    "Тест учитывает расположение элементов выборок относительно друг друга (однородность распределений), а не значения элементов. Поэтому **он и не зависит от изменившихся после сглаживания средних выборок** и **на чувствительность теста такое преобразование практически не повлияло.**"
   ]
  },
  {
   "cell_type": "markdown",
   "id": "50c61a34",
   "metadata": {},
   "source": [
    "## <center>Непараметрический бутстреп для вычисления средних CTR"
   ]
  },
  {
   "cell_type": "markdown",
   "id": "ed65df9d",
   "metadata": {},
   "source": [
    "Для сравнения среднего CTR в первой(контрольной) и второй(тестовых) группах, применим непараметрический бутстреп.\n",
    "Будем рандомно генировать псевдовыборки из CTR групп 1 и 2 длиной этих групп и каждую итерацию считать среднее по этим CTR и записывать их в список, на основе которых потом проведем анализ."
   ]
  },
  {
   "cell_type": "code",
   "execution_count": 28,
   "id": "ba612600",
   "metadata": {},
   "outputs": [],
   "source": [
    "def bootstrap(series1, series2, times = 2000):\n",
    "    \"\"\"\n",
    "    Функция bootstrap рассчитывает среднее CTR в псевдовыборке из каждой группы.\n",
    "    \n",
    "    Параметры на вход:\n",
    "    series1 - принимает на вход вектор из первой группы\n",
    "    series2 - принимает на вход вектор из второй группы\n",
    "    times -  сколько раз будет генерировать псевдовыборки\n",
    "    \n",
    "    Возвращает два распределения средних CTR по псевдовыборкам из групп 1 и 2\n",
    "    \"\"\"\n",
    "    list1 = []\n",
    "    list2 = []\n",
    "    for i in range(times):\n",
    "        temp1 = series1.sample(len(series1), replace=True)\n",
    "        list1.append(temp1.mean())\n",
    "        \n",
    "        temp2 = series2.sample(len(series2), replace=True)\n",
    "        list2.append(temp2.mean())\n",
    "    \n",
    "    return list1, list2"
   ]
  },
  {
   "cell_type": "code",
   "execution_count": 29,
   "id": "cadee758",
   "metadata": {},
   "outputs": [],
   "source": [
    "ctr_mean_1, ctr_mean_2 = bootstrap(df[df['exp_group']==1].ctr, \n",
    "                                   df[df['exp_group']==2].ctr)"
   ]
  },
  {
   "cell_type": "markdown",
   "id": "c8aead8f",
   "metadata": {},
   "source": [
    "Построим гистрограммы получившихся распределений средних CTR из этих 2000 псевдовыборок из тестовой и контрольной групп."
   ]
  },
  {
   "cell_type": "code",
   "execution_count": 30,
   "id": "9b5fd545",
   "metadata": {
    "scrolled": false
   },
   "outputs": [
    {
     "data": {
      "text/plain": [
       "<AxesSubplot:ylabel='Count'>"
      ]
     },
     "execution_count": 30,
     "metadata": {},
     "output_type": "execute_result"
    },
    {
     "data": {
      "image/png": "[encoded data removed]",
      "text/plain": [
       "<Figure size 864x576 with 1 Axes>"
      ]
     },
     "metadata": {},
     "output_type": "display_data"
    }
   ],
   "source": [
    "sns.histplot(ctr_mean_1, bins = 100,color = 'red')\n",
    "sns.histplot(data = ctr_mean_2, bins = 100, alpha = 0.5)"
   ]
  },
  {
   "cell_type": "markdown",
   "id": "ee38969c",
   "metadata": {},
   "source": [
    "Визуально заметно, как средние значения CTR в псевдовыборках из контрольной группы больше. Проведем тесты параметрическим методом с использованием t критерия Стьюдента и его непараметрическим аналогом - W критерием Уилкоксона в тесте Манна-Уитни ."
   ]
  },
  {
   "cell_type": "markdown",
   "id": "d158b897",
   "metadata": {},
   "source": [
    "### Тест Стьюдента:"
   ]
  },
  {
   "cell_type": "code",
   "execution_count": 31,
   "id": "b1a1d917",
   "metadata": {},
   "outputs": [
    {
     "data": {
      "text/plain": [
       "Ttest_indResult(statistic=32.668456488966115, pvalue=4.351713988086434e-203)"
      ]
     },
     "execution_count": 31,
     "metadata": {},
     "output_type": "execute_result"
    }
   ],
   "source": [
    "stats.ttest_ind(ctr_mean_1, \n",
    "                ctr_mean_2, \n",
    "                equal_var=False,\n",
    "                alternative='greater')"
   ]
  },
  {
   "cell_type": "markdown",
   "id": "32a63ef8",
   "metadata": {},
   "source": [
    "**Тест Стьюдента прокрасился**\n",
    "\n",
    "Принимаем односторонюю гипотезу о большем значении среднего в распредлении средних CTR пседовыборок из группы 1, т.е. контрольной. Новый ML алгоритм во 2 группе привел к снижению CTR."
   ]
  },
  {
   "cell_type": "markdown",
   "id": "fdfe16a2",
   "metadata": {},
   "source": [
    "### Тест Манна-Уитни:"
   ]
  },
  {
   "cell_type": "code",
   "execution_count": 32,
   "id": "c6338743",
   "metadata": {},
   "outputs": [
    {
     "data": {
      "text/plain": [
       "MannwhitneyuResult(statistic=3073508.0, pvalue=3.1310307193424063e-190)"
      ]
     },
     "execution_count": 32,
     "metadata": {},
     "output_type": "execute_result"
    }
   ],
   "source": [
    "stats.mannwhitneyu(ctr_mean_1,\n",
    "                   ctr_mean_2,\n",
    "                   alternative='greater')"
   ]
  },
  {
   "cell_type": "markdown",
   "id": "37b1eef5",
   "metadata": {},
   "source": [
    "**Тест Манна-Уитни показал наличие статистически значимых различий в выборках**.   \n",
    "\n",
    "Принимаем гипотезу о том вероятность получения случайного числа среднего CTR из псевдовыборки контрольной группы большего по значению, чем случайного числа среднего CTR из псевдовыборки тестовой группы выше, чем вероятность получения случайного числа среденего CTR из псевдовыборки контрольной группы меньшего по значению, чем случайного числа среднего CTR из псевдовыборки тестовой группы."
   ]
  },
  {
   "cell_type": "markdown",
   "id": "b0e1e983",
   "metadata": {},
   "source": [
    "**К недостатку бутсрепа можно отнести использование малореалистичного предположения о независимости перевыборок и значительные вычислительные затраты при их многократном построении.**"
   ]
  },
  {
   "cell_type": "markdown",
   "id": "21c26a57",
   "metadata": {},
   "source": [
    "## <center>Пуассоновский бутстреп для подсчета разницы в CTR"
   ]
  },
  {
   "cell_type": "markdown",
   "id": "2b3d5298",
   "metadata": {},
   "source": [
    "- Берем выборку из группы 1 (у нас это $user\\_id$ с его $views$ и $likes$)\n",
    "- Из распределения Пуассона генерируем «сколько раз этот пользователь попал в псевдовыборку». Получается колонка, отражающая «вес» пользователя. Назовем ее $weights_1$.\n",
    "- Считаем «глобальный CTR» по псевдовыборке для группы 1(контрольной): \n",
    "\n",
    "<center>$global CTR_1 = \\dfrac{sum(clicks_1*weights_1)}{sum(views_1*weights_1)}$"
   ]
  },
  {
   "cell_type": "markdown",
   "id": "8cced35b",
   "metadata": {},
   "source": [
    "- Берем выборку из группы 2 (у нас это $user\\_id$ с его $views$ и $likes$)\n",
    "- Из распределения Пуассона генерируем «сколько раз этот пользователь попал в псевдовыборку». Получается колонка, отражающая «вес» пользователя. Назовем ее $weights_2$.\n",
    "- Считаем «глобальный CTR» по псевдовыборке для группы 2(тестовой): \n",
    "\n",
    "<center>$global CTR_2 = \\dfrac{sum(clicks_2*weights_2)}{sum(views_2*weights_2)}$"
   ]
  },
  {
   "cell_type": "markdown",
   "id": "b6833df6",
   "metadata": {},
   "source": [
    "- Считаем разницу между $global CTR_1 - global CTR_2$ и записываем эту разность, например, в список.  \n",
    "- Повторяем процедуру много раз, например, 2000.  \n",
    "- Таким образом, мы набираем распределение для разницы в глобальном CTR."
   ]
  },
  {
   "cell_type": "code",
   "execution_count": 33,
   "id": "d0158f3a",
   "metadata": {},
   "outputs": [],
   "source": [
    "def bootstrap(likes1, views1, likes2, views2, n_bootstrap=2000):\n",
    "    \"\"\"\n",
    "    Функция bootstrap рассчитывает глобальный CTR в псевдовыборке из каждой группы.\n",
    "    \n",
    "    Параметры на вход:\n",
    "    likes1 - количество лайков пользователей из 1-й группы\n",
    "    likes2 - количество лайков пользователей из 2-й группы\n",
    "    views1 - количество просмотров пользователей из 1-й группы\n",
    "    views2 - количество просмотров пользователей из 2-й группы\n",
    "    \n",
    "    Возвращает два распределения глобальных CTR по псевдовыборкам из групп 1 и 2\n",
    "    \"\"\"\n",
    "    # Из распределения Пуассона генерируем «сколько раз этот пользователь попал в псевдовыборку» для 1-й и 2-й группы, \n",
    "    # то есть «вес» пользователя\n",
    "    poisson_bootstraps1 = stats.poisson(1).rvs((n_bootstrap, len(likes1))).astype(np.int64)\n",
    "\n",
    "    poisson_bootstraps2 = stats.poisson(1).rvs((n_bootstrap, len(likes2))).astype(np.int64)\n",
    "    \n",
    "    # Считаем глобальный CTR по псевдовыборке для каждой группы:\n",
    "    \n",
    "    globalCTR1 = (poisson_bootstraps1*likes1).sum(axis=1)/(poisson_bootstraps1*views1).sum(axis=1)\n",
    "    \n",
    "    globalCTR2 = (poisson_bootstraps2*likes2).sum(axis=1)/(poisson_bootstraps2*views2).sum(axis=1)\n",
    "\n",
    "    return globalCTR1, globalCTR2\n",
    "\n"
   ]
  },
  {
   "cell_type": "code",
   "execution_count": 34,
   "id": "e2f9c9b3",
   "metadata": {},
   "outputs": [],
   "source": [
    "likes1 = df[df.exp_group == 1].likes.to_numpy()\n",
    "views1 = df[df.exp_group == 1].views.to_numpy()\n",
    "likes2 = df[df.exp_group == 2].likes.to_numpy()\n",
    "views2 = df[df.exp_group == 2].views.to_numpy()\n",
    "\n",
    "global_ctr_1, global_ctr_2 = bootstrap(likes1, views1, likes2, views2)"
   ]
  },
  {
   "cell_type": "markdown",
   "id": "d1bdbbb9",
   "metadata": {},
   "source": [
    "Построим гистрограммы получившихся распределений глобальных CTR из этих 2000 псевдовыборок из тестовой и контрольной групп."
   ]
  },
  {
   "cell_type": "code",
   "execution_count": 35,
   "id": "c95444b8",
   "metadata": {},
   "outputs": [
    {
     "data": {
      "text/plain": [
       "<AxesSubplot:ylabel='Count'>"
      ]
     },
     "execution_count": 35,
     "metadata": {},
     "output_type": "execute_result"
    },
    {
     "data": {
      "image/png": "[encoded data removed]",
      "text/plain": [
       "<Figure size 864x576 with 1 Axes>"
      ]
     },
     "metadata": {},
     "output_type": "display_data"
    }
   ],
   "source": [
    "sns.histplot(global_ctr_1, bins = 100,color = 'red')\n",
    "sns.histplot(global_ctr_2, bins = 100)"
   ]
  },
  {
   "cell_type": "markdown",
   "id": "4ae9a168",
   "metadata": {},
   "source": [
    "Построим гистрограмму разницы между глобальными CTR:"
   ]
  },
  {
   "cell_type": "code",
   "execution_count": 36,
   "id": "f5d0c832",
   "metadata": {},
   "outputs": [
    {
     "data": {
      "text/plain": [
       "<AxesSubplot:ylabel='Count'>"
      ]
     },
     "execution_count": 36,
     "metadata": {},
     "output_type": "execute_result"
    },
    {
     "data": {
      "image/png": "[encoded data removed]",
      "text/plain": [
       "<Figure size 864x576 with 1 Axes>"
      ]
     },
     "metadata": {},
     "output_type": "display_data"
    }
   ],
   "source": [
    "sns.histplot(global_ctr_2 - global_ctr_1, bins = 100)"
   ]
  },
  {
   "cell_type": "markdown",
   "id": "b46a4a91",
   "metadata": {},
   "source": [
    "Очевидно, что глобальные CTR в псевдовыборках из контрольной группы больше, чем в тествой, так как графики их распределений даже не пересекаются.  Можно утверждать, что новый ML алгоритм (группа 2) в тестовой группе 2 (красная на графике выше) приводит к снижению глобального CTR.   \n",
    "   \n",
    "**Проведем тест параметрическим методом с использованием t критерия Стьюдента.**"
   ]
  },
  {
   "cell_type": "code",
   "execution_count": 37,
   "id": "9558253e",
   "metadata": {},
   "outputs": [
    {
     "data": {
      "text/plain": [
       "Ttest_indResult(statistic=277.39991434317454, pvalue=0.0)"
      ]
     },
     "execution_count": 37,
     "metadata": {},
     "output_type": "execute_result"
    }
   ],
   "source": [
    "stats.ttest_ind(global_ctr_1, \n",
    "                global_ctr_2, \n",
    "                equal_var=False,\n",
    "                alternative='greater')"
   ]
  },
  {
   "cell_type": "markdown",
   "id": "859bc0f8",
   "metadata": {},
   "source": [
    "**P-value = 0, что очевидно меньше уровня значимости в 0.05. Следовательно можем принять гипотезу, что среднее значение глобальных CTR псевдовыборок контрольной группы больше, чем реднее значение глобальных CTR псевдовыборок тестовой группы.  \n",
    "Новый ML алгоритм во 2 группе привел к снижению CTR.**"
   ]
  },
  {
   "cell_type": "markdown",
   "id": "b332a910",
   "metadata": {},
   "source": [
    "## <center>Тест Стьюдента и тест Манна-Уитни поверх бакетного преобразования\n",
    "   "
   ]
  },
  {
   "cell_type": "markdown",
   "id": "33b70b3e",
   "metadata": {},
   "source": [
    "Необходимо разбить пользователей на n «корзинок» («бакетов»). Нужно гарантировать, что каждый пользователь попадет только в один бакет и пользователи по бакетам будут распределены равномерно. Это можно гарантировать с помощью того же хеширования с солью. Каждый бакет теперь становится как бы «метапользователем», участвующим в эксперименте. И внутри такого «метапользователя» показатель нужно как-то агрегировать.\n",
    "Будем вычеслять среднее CTR по бакету.   \n",
    "\n",
    "Разделим контрольные и тестовые группы по 50 бакетов и считаем в каждом бакете среднее. В итоге на выходе получим две выборки из 50 значений средних CTR по этим «метапользователям». Это как будто мы сделали бутстреп, но только не сгенерировав псевдовыборку, а откусив правильным образом кусок из имеющейся."
   ]
  },
  {
   "cell_type": "markdown",
   "id": "bec2d380",
   "metadata": {},
   "source": [
    "Разделим две группы пользователей на 50 бакетов прямо в ClickHouse с помощью функции хэширования **xxHash64**:"
   ]
  },
  {
   "cell_type": "code",
   "execution_count": 38,
   "id": "2d2e731f",
   "metadata": {},
   "outputs": [],
   "source": [
    "query1 = \"\"\"\n",
    "select \n",
    "    exp_group, \n",
    "    bucket,\n",
    "    sum(likes)/sum(views) as bucket_ctr\n",
    "from \n",
    "    (\n",
    "    select \n",
    "        exp_group, \n",
    "        xxHash64(user_id)%50 as bucket,\n",
    "        user_id,\n",
    "        sum(action = 'like') as likes,\n",
    "        sum(action = 'view') as views,\n",
    "        likes/views as ctr\n",
    "    from {db}.feed_actions \n",
    "    where toDate(time) between '2023-01-01' and '2023-01-07'\n",
    "          and exp_group in (1,2)\n",
    "    group by exp_group, bucket, user_id\n",
    "    )\n",
    "group by exp_group, bucket\n",
    "\"\"\""
   ]
  },
  {
   "cell_type": "code",
   "execution_count": 39,
   "id": "6b7c3b9a",
   "metadata": {},
   "outputs": [],
   "source": [
    "df1 = ph.read_clickhouse(query1, connection = connection)"
   ]
  },
  {
   "cell_type": "code",
   "execution_count": 40,
   "id": "37dd343c",
   "metadata": {},
   "outputs": [
    {
     "data": {
      "text/html": [
       "<div>\n",
       "<style scoped>\n",
       "    .dataframe tbody tr th:only-of-type {\n",
       "        vertical-align: middle;\n",
       "    }\n",
       "\n",
       "    .dataframe tbody tr th {\n",
       "        vertical-align: top;\n",
       "    }\n",
       "\n",
       "    .dataframe thead th {\n",
       "        text-align: right;\n",
       "    }\n",
       "</style>\n",
       "<table border=\"1\" class=\"dataframe\">\n",
       "  <thead>\n",
       "    <tr style=\"text-align: right;\">\n",
       "      <th></th>\n",
       "      <th>exp_group</th>\n",
       "      <th>bucket</th>\n",
       "      <th>bucket_ctr</th>\n",
       "    </tr>\n",
       "  </thead>\n",
       "  <tbody>\n",
       "    <tr>\n",
       "      <th>0</th>\n",
       "      <td>1</td>\n",
       "      <td>0</td>\n",
       "      <td>0.196481</td>\n",
       "    </tr>\n",
       "    <tr>\n",
       "      <th>1</th>\n",
       "      <td>2</td>\n",
       "      <td>0</td>\n",
       "      <td>0.194262</td>\n",
       "    </tr>\n",
       "    <tr>\n",
       "      <th>2</th>\n",
       "      <td>1</td>\n",
       "      <td>1</td>\n",
       "      <td>0.211887</td>\n",
       "    </tr>\n",
       "    <tr>\n",
       "      <th>3</th>\n",
       "      <td>2</td>\n",
       "      <td>1</td>\n",
       "      <td>0.215328</td>\n",
       "    </tr>\n",
       "    <tr>\n",
       "      <th>4</th>\n",
       "      <td>1</td>\n",
       "      <td>2</td>\n",
       "      <td>0.206271</td>\n",
       "    </tr>\n",
       "  </tbody>\n",
       "</table>\n",
       "</div>"
      ],
      "text/plain": [
       "   exp_group  bucket  bucket_ctr\n",
       "0          1       0    0.196481\n",
       "1          2       0    0.194262\n",
       "2          1       1    0.211887\n",
       "3          2       1    0.215328\n",
       "4          1       2    0.206271"
      ]
     },
     "execution_count": 40,
     "metadata": {},
     "output_type": "execute_result"
    }
   ],
   "source": [
    "df1.head()"
   ]
  },
  {
   "cell_type": "code",
   "execution_count": 41,
   "id": "7ffe9f9a",
   "metadata": {},
   "outputs": [
    {
     "data": {
      "text/plain": [
       "100"
      ]
     },
     "execution_count": 41,
     "metadata": {},
     "output_type": "execute_result"
    }
   ],
   "source": [
    "df1.bucket.count()"
   ]
  },
  {
   "cell_type": "markdown",
   "id": "06bbc18b",
   "metadata": {},
   "source": [
    "Получено 50 бакетов в тестовой и 50 бакетов в контрольной группах"
   ]
  },
  {
   "cell_type": "markdown",
   "id": "ab1fb716",
   "metadata": {},
   "source": [
    "### Проведем тест параметрическим методом с использованием t критерия Стьюдента:"
   ]
  },
  {
   "cell_type": "code",
   "execution_count": 42,
   "id": "dc700943",
   "metadata": {},
   "outputs": [
    {
     "data": {
      "text/plain": [
       "Ttest_indResult(statistic=-5.668234732053979, pvalue=1.7227975824972953e-07)"
      ]
     },
     "execution_count": 42,
     "metadata": {},
     "output_type": "execute_result"
    }
   ],
   "source": [
    "stats.ttest_ind(df1[df1['exp_group']==2].bucket_ctr, \n",
    "                df1[df1['exp_group']==1].bucket_ctr, \n",
    "                equal_var=False, \n",
    "                alternative='less')"
   ]
  },
  {
   "cell_type": "markdown",
   "id": "fe41c675",
   "metadata": {},
   "source": [
    "**Тест прокрасился, p-value стремится к нулю, следовательно принимаем альтернативную гипотезу о том, что среднее значение в выборке побакетных CTR в первой (контрольной) группе выше, чем среднее значение в выборке побакетных CTR во второй (тестовой) группе.**"
   ]
  },
  {
   "cell_type": "markdown",
   "id": "1f161ad9",
   "metadata": {},
   "source": [
    "### Проведем тест параметрическим методом с использованием U-критерия Манна-Уитни:"
   ]
  },
  {
   "cell_type": "code",
   "execution_count": 43,
   "id": "f2d2d6a4",
   "metadata": {},
   "outputs": [
    {
     "data": {
      "text/plain": [
       "MannwhitneyuResult(statistic=505.0, pvalue=1.429981968246323e-07)"
      ]
     },
     "execution_count": 43,
     "metadata": {},
     "output_type": "execute_result"
    }
   ],
   "source": [
    "stats.mannwhitneyu(df1[df1['exp_group']==2].bucket_ctr, \n",
    "                   df1[df1['exp_group']==1].bucket_ctr, \n",
    "                   alternative='less')"
   ]
  },
  {
   "cell_type": "markdown",
   "id": "5b694d2e",
   "metadata": {},
   "source": [
    "**Тест Манна-Уитни прокрасился, p-value стремится к нулю.**\n",
    "\n",
    "**Принимаем гипотезу о том вероятность получения случайного числа среднего CTR бакета из контрольной группы большего по значению, чем случайного числа среднего CTR бакета из тестовой группы выше, чем вероятность получения случайного числа среденего CTR бакета из контрольной группы меньшего по значению, чем случайного числа среднего CTR бакета из  тестовой группы.\n",
    "А это значит, что новый ML алгоритм во 2 группе привел к снижению CTR.**"
   ]
  },
  {
   "cell_type": "markdown",
   "id": "a4a6140e",
   "metadata": {},
   "source": [
    "## <center>Выводы:"
   ]
  },
  {
   "cell_type": "markdown",
   "id": "7c175b5c",
   "metadata": {},
   "source": [
    "Выполнено статистическое тестирование гипотезы о том что новый алгоритм во 2-й группе приведет к увеличению CTR с использованием параметрических и непараметричсеких методов:\n",
    "- t-тест на всех группах без предобработки;\n",
    "- Тест Манна-Уитни на всех группах без предобработки;\n",
    "- Непараметрический бутстреп;\n",
    "- Пуассоновский бутстреп;\n",
    "- t-тест и тест Манна-Уитни на сглаженном ctr (α=5);\n",
    "- t-тест и тест Манна-Уитни поверх бакетного преобразования.\n",
    "\n",
    "По результатам выполнения серии тестов, данная гипотеза была отвергнута и принята обратная: новый ML алгоритм в тестовой группе приведет к снижению CTR по сравнению с CTR в контрольной.\n",
    "Однако не все тесты обнаружили статистически значимое различие в группах.\n",
    "\n",
    "Тест Стьюдента на группах без предобработки не прокрасился из-за заложенного в t статистику сравнения среднего выборок, а они в двух выборках практически идентичны. Но после применения сглаживания Лапласа для метрики CTR, которое позволило увеличить чувствительность t критерия, была обнаружена статистически значимая разница в группах и принята обратная альтернативная гипотеза:   \n",
    "Cредние значения CTR в тестовой группе ниже, чем в контрольной."
   ]
  },
  {
   "cell_type": "markdown",
   "id": "e613f184",
   "metadata": {},
   "source": [
    "Рекоммендация: Не раскатывать алгоритм на всех пользователей. Во-первых, потому что пуассоновский бутстреп показал, что СTR в таргет группе стал ниже, чем в контрольной группе. Во-вторых, стоит также разобраться, почему CTR стал бимодальным."
   ]
  },
  {
   "cell_type": "markdown",
   "id": "9ee8c7de",
   "metadata": {},
   "source": [
    "## <center> Анализ причин бимодальности распределения CTR в тестовой группе"
   ]
  },
  {
   "cell_type": "markdown",
   "id": "b3d13b57",
   "metadata": {},
   "source": [
    "Бимодальность распределения в нашем случае говорит о том что сформировалось две подгруппы пользователей и одной группы CTR вырос по отношению к контрольной, а у второй подгруппы CTR стал ниже. \n",
    "\n",
    "Почему так произошло?\n",
    "\n",
    "Одна из причин - бимодальность распределения CTR в тестовой группе присутствовала и ранее.\n",
    "Проверим распредление CTR на логах за 11 дней до применения  нового ML алгоритма:"
   ]
  },
  {
   "cell_type": "code",
   "execution_count": 44,
   "id": "504f68e9",
   "metadata": {
    "scrolled": false
   },
   "outputs": [],
   "source": [
    "query = '''\n",
    "select user_id,\n",
    "    sum(action = 'like')/sum(action = 'view') ctr\n",
    "from {db}.feed_actions \n",
    "where toDate(time) between '2022-12-20' and '2022-12-31'\n",
    "    and exp_group in (2)\n",
    "group by user_id \n",
    "'''"
   ]
  },
  {
   "cell_type": "code",
   "execution_count": 45,
   "id": "23c400ea",
   "metadata": {},
   "outputs": [],
   "source": [
    "df = ph.read_clickhouse(query, connection = connection)"
   ]
  },
  {
   "cell_type": "code",
   "execution_count": 46,
   "id": "baf332a6",
   "metadata": {},
   "outputs": [
    {
     "data": {
      "text/html": [
       "<div>\n",
       "<style scoped>\n",
       "    .dataframe tbody tr th:only-of-type {\n",
       "        vertical-align: middle;\n",
       "    }\n",
       "\n",
       "    .dataframe tbody tr th {\n",
       "        vertical-align: top;\n",
       "    }\n",
       "\n",
       "    .dataframe thead th {\n",
       "        text-align: right;\n",
       "    }\n",
       "</style>\n",
       "<table border=\"1\" class=\"dataframe\">\n",
       "  <thead>\n",
       "    <tr style=\"text-align: right;\">\n",
       "      <th></th>\n",
       "      <th>user_id</th>\n",
       "      <th>ctr</th>\n",
       "    </tr>\n",
       "  </thead>\n",
       "  <tbody>\n",
       "    <tr>\n",
       "      <th>0</th>\n",
       "      <td>129127</td>\n",
       "      <td>0.134831</td>\n",
       "    </tr>\n",
       "    <tr>\n",
       "      <th>1</th>\n",
       "      <td>129711</td>\n",
       "      <td>0.300000</td>\n",
       "    </tr>\n",
       "    <tr>\n",
       "      <th>2</th>\n",
       "      <td>114145</td>\n",
       "      <td>0.218310</td>\n",
       "    </tr>\n",
       "    <tr>\n",
       "      <th>3</th>\n",
       "      <td>22116</td>\n",
       "      <td>0.219178</td>\n",
       "    </tr>\n",
       "    <tr>\n",
       "      <th>4</th>\n",
       "      <td>21676</td>\n",
       "      <td>0.220779</td>\n",
       "    </tr>\n",
       "  </tbody>\n",
       "</table>\n",
       "</div>"
      ],
      "text/plain": [
       "   user_id       ctr\n",
       "0   129127  0.134831\n",
       "1   129711  0.300000\n",
       "2   114145  0.218310\n",
       "3    22116  0.219178\n",
       "4    21676  0.220779"
      ]
     },
     "execution_count": 46,
     "metadata": {},
     "output_type": "execute_result"
    }
   ],
   "source": [
    "df.head()"
   ]
  },
  {
   "cell_type": "code",
   "execution_count": 47,
   "id": "b96c93ed",
   "metadata": {},
   "outputs": [
    {
     "data": {
      "image/png": "[encoded data removed]",
      "text/plain": [
       "<Figure size 864x576 with 1 Axes>"
      ]
     },
     "metadata": {},
     "output_type": "display_data"
    }
   ],
   "source": [
    "sns.set(rc={'figure.figsize':(12,8)})\n",
    "g = sns.histplot(data = df,\n",
    "                 x='ctr',\n",
    "                 bins = 100)"
   ]
  },
  {
   "cell_type": "markdown",
   "id": "3253f3a3",
   "metadata": {},
   "source": [
    "Гистрограмма распределения CTR в тестовой группе до применения алгоритма,  позволяет утверждать об отсутствии бимодальности распредления до его применения. Отвергаем данную теорию.\n",
    "\n",
    "Вероятно, пользователей в каждой из подгрупп (те кому новый алгоритм предлагал интересные для них посты и те кому новые посты не нравились) что-то объединяет."
   ]
  },
  {
   "cell_type": "code",
   "execution_count": 48,
   "id": "4015b038",
   "metadata": {},
   "outputs": [],
   "source": [
    "query = '''\n",
    "select exp_group, \n",
    "    user_id, \n",
    "    gender,\n",
    "    age,\n",
    "    sum(action = 'like') likes,\n",
    "    sum(action = 'view') views,\n",
    "    likes/views ctr\n",
    "from {db}.feed_actions \n",
    "where toDate(time) between '2023-01-01' and '2023-01-07'\n",
    "    and exp_group in (1,2)\n",
    "group by exp_group, user_id, gender, city, age\n",
    "'''"
   ]
  },
  {
   "cell_type": "code",
   "execution_count": 49,
   "id": "6cbe2823",
   "metadata": {},
   "outputs": [],
   "source": [
    "df = ph.read_clickhouse(query, connection = connection)"
   ]
  },
  {
   "cell_type": "markdown",
   "id": "b476d6e0",
   "metadata": {},
   "source": [
    "Разобъем тестовую группу на две: с низким CTR и высоким CTR. Пороговое значение для CTR ддя разбиения: 0.2 так как на гистограмме при этом значении CTR, одно распеределение перетекает в другое и преваращается в бимодальное."
   ]
  },
  {
   "cell_type": "code",
   "execution_count": 50,
   "id": "69ec6f38",
   "metadata": {},
   "outputs": [],
   "source": [
    "gr1 = df.loc[(df['exp_group'] == 2)&(df['ctr'] < 0.2)]\n",
    "gr2 = df.loc[(df['exp_group'] == 2)&(df['ctr'] >= 0.2)]"
   ]
  },
  {
   "cell_type": "markdown",
   "id": "a4265d7f",
   "metadata": {},
   "source": [
    "Проверим возраст и пол в подгруппах:"
   ]
  },
  {
   "cell_type": "code",
   "execution_count": 51,
   "id": "ea42bc90",
   "metadata": {},
   "outputs": [
    {
     "data": {
      "text/plain": [
       "MannwhitneyuResult(statistic=12196503.0, pvalue=0.7059764160346121)"
      ]
     },
     "execution_count": 51,
     "metadata": {},
     "output_type": "execute_result"
    }
   ],
   "source": [
    "stats.mannwhitneyu(gr1.age, \n",
    "                   gr2.age)"
   ]
  },
  {
   "cell_type": "code",
   "execution_count": 52,
   "id": "f1fd5527",
   "metadata": {},
   "outputs": [
    {
     "data": {
      "text/plain": [
       "MannwhitneyuResult(statistic=12361145.0, pvalue=0.3662478744046721)"
      ]
     },
     "execution_count": 52,
     "metadata": {},
     "output_type": "execute_result"
    }
   ],
   "source": [
    "stats.mannwhitneyu(gr1.gender, \n",
    "                   gr2.gender)"
   ]
  },
  {
   "cell_type": "markdown",
   "id": "ab814ed5",
   "metadata": {},
   "source": [
    "Различия по возрасту и полу статистически незначимы между пользователями, у которых низкий и высокий CTR."
   ]
  },
  {
   "cell_type": "markdown",
   "id": "868c4a3b",
   "metadata": {},
   "source": [
    "Проверим лайки просмотры:"
   ]
  },
  {
   "cell_type": "code",
   "execution_count": 53,
   "id": "19ee099b",
   "metadata": {},
   "outputs": [
    {
     "data": {
      "text/plain": [
       "count    5486.000000\n",
       "mean        7.456981\n",
       "std         5.734181\n",
       "min         0.000000\n",
       "25%         3.000000\n",
       "50%         6.000000\n",
       "75%        11.000000\n",
       "max        39.000000\n",
       "Name: likes, dtype: float64"
      ]
     },
     "execution_count": 53,
     "metadata": {},
     "output_type": "execute_result"
    }
   ],
   "source": [
    "gr1.likes.describe()"
   ]
  },
  {
   "cell_type": "code",
   "execution_count": 54,
   "id": "6d4a6773",
   "metadata": {},
   "outputs": [
    {
     "data": {
      "text/plain": [
       "count    5486.000000\n",
       "mean       71.911775\n",
       "std        47.789918\n",
       "min         1.000000\n",
       "25%        35.000000\n",
       "50%        62.000000\n",
       "75%        99.000000\n",
       "max       321.000000\n",
       "Name: views, dtype: float64"
      ]
     },
     "execution_count": 54,
     "metadata": {},
     "output_type": "execute_result"
    }
   ],
   "source": [
    "gr1.views.describe()"
   ]
  },
  {
   "cell_type": "code",
   "execution_count": 55,
   "id": "70c75d2b",
   "metadata": {},
   "outputs": [
    {
     "data": {
      "text/plain": [
       "count    4466.000000\n",
       "mean       20.034931\n",
       "std        13.590496\n",
       "min         1.000000\n",
       "25%        10.000000\n",
       "50%        17.000000\n",
       "75%        27.000000\n",
       "max        95.000000\n",
       "Name: likes, dtype: float64"
      ]
     },
     "execution_count": 55,
     "metadata": {},
     "output_type": "execute_result"
    }
   ],
   "source": [
    "gr2.likes.describe()"
   ]
  },
  {
   "cell_type": "code",
   "execution_count": 56,
   "id": "4867aa5c",
   "metadata": {},
   "outputs": [
    {
     "data": {
      "text/plain": [
       "count    4466.000000\n",
       "mean       59.068966\n",
       "std        40.581740\n",
       "min         5.000000\n",
       "25%        28.000000\n",
       "50%        49.000000\n",
       "75%        80.000000\n",
       "max       275.000000\n",
       "Name: views, dtype: float64"
      ]
     },
     "execution_count": 56,
     "metadata": {},
     "output_type": "execute_result"
    }
   ],
   "source": [
    "gr2.views.describe()"
   ]
  },
  {
   "cell_type": "code",
   "execution_count": 57,
   "id": "184262e4",
   "metadata": {},
   "outputs": [
    {
     "data": {
      "text/plain": [
       "MannwhitneyuResult(statistic=4147604.5, pvalue=0.0)"
      ]
     },
     "execution_count": 57,
     "metadata": {},
     "output_type": "execute_result"
    }
   ],
   "source": [
    "stats.mannwhitneyu(gr1.likes, \n",
    "                   gr2.likes)"
   ]
  },
  {
   "cell_type": "code",
   "execution_count": 58,
   "id": "e31eaf50",
   "metadata": {},
   "outputs": [
    {
     "data": {
      "text/plain": [
       "MannwhitneyuResult(statistic=14195208.0, pvalue=1.0896160060083045e-42)"
      ]
     },
     "execution_count": 58,
     "metadata": {},
     "output_type": "execute_result"
    }
   ],
   "source": [
    "stats.mannwhitneyu(gr1.views, \n",
    "                   gr2.views,\n",
    "                   alternative='greater')"
   ]
  },
  {
   "cell_type": "markdown",
   "id": "1847ce7a",
   "metadata": {},
   "source": [
    "Из описательных статистик распределений лайков и просмотров и проведенных тестов, видно статистическое отличие в количестве просмотров и лайков в подгруппах:   \n",
    "**У тех кому новый ML алгоритм \"не зашел\" увеличись просмотры, а вот лайки естественно упали, что и дало снижение CTR.**"
   ]
  },
  {
   "cell_type": "markdown",
   "id": "3439989d",
   "metadata": {},
   "source": [
    "## <center>Финальная рекомендация:"
   ]
  },
  {
   "cell_type": "markdown",
   "id": "f103c601",
   "metadata": {},
   "source": [
    "По результатам AB-теста проведенному с примением параметрических и непараметрических методов гипотеза о том, что новый ML алгоритм приведет к увеличению CTR в тестовой группе была опровергнута.\n",
    "В тестовой группе обнаружена бимодальность распределения CTR, после анализа которого определены две подгруппы пользователей: те кому новый алгоритм предлагал интересные посты и тем кому новый ML алгоритм \"не зашел\", причем пользователей которые новые посты не оценили больше. Это и дало снижение CTR.  \n",
    "   \n",
    "**Вероятно, ML модель не обладает достаточной точностью.**  \n",
    "\n",
    "**Новый алгоритм на всех новых пользователей раскатывать не стоит.**\n",
    "\n",
    "\n"
   ]
  }
 ],
 "metadata": {
  "kernelspec": {
   "display_name": "Python 3 (ipykernel)",
   "language": "python",
   "name": "python3"
  },
  "language_info": {
   "codemirror_mode": {
    "name": "ipython",
    "version": 3
   },
   "file_extension": ".py",
   "mimetype": "text/x-python",
   "name": "python",
   "nbconvert_exporter": "python",
   "pygments_lexer": "ipython3",
   "version": "3.8.10"
  }
 },
 "nbformat": 4,
 "nbformat_minor": 5
}
