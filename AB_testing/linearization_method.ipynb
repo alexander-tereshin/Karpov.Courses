{
 "cells": [
  {
   "cell_type": "markdown",
   "id": "920e9759",
   "metadata": {},
   "source": [
    "## <center>Метод линеаризации для метрики CTR\n",
    "* Считаем общий *CTR* в контрольной группе  $𝐶𝑇𝑅_{𝑐𝑜𝑛𝑡𝑟𝑜𝑙}=𝑠𝑢𝑚(𝑙𝑖𝑘𝑒𝑠)/𝑠𝑢𝑚(𝑣𝑖𝑒𝑤𝑠)$\n",
    "* Посчитаем в обеих группах поюзерную метрику 𝑙𝑖𝑛𝑒𝑎𝑟𝑖𝑧𝑒𝑑_𝑙𝑖𝑘𝑒𝑠 = 𝑙𝑖𝑘𝑒𝑠 − $𝐶𝑇𝑅_{𝑐𝑜𝑛𝑡𝑟𝑜𝑙}$ ∗ 𝑣𝑖𝑒𝑤𝑠\n",
    "* После чего сравним t-тестом отличия в группах по метрике 𝑙𝑖𝑛𝑒𝑎𝑟𝑖𝑧𝑒𝑑_𝑙𝑖𝑘𝑒𝑠.   \n",
    "\n",
    "Сами по себе метрики отношения обычно лежат в границах от 0 до 1. Линеаризация позволяет расширить этот диапазон и перейти к большему размеру эффекта.\n",
    "Обратите внимание, что дисперсия при таком подходе возрастает — но чувствительность всё равно увеличивается.   \n",
    "Если тест на метрике linearized likes «прокрасится» и увидит изменения, значит изменения есть и в метрике исходной (то есть в лайках на пользователя и в пользовательских CTR).\n",
    "\n",
    "### <center>Задача\n",
    "1. Проанализируйте тест между группами 0 и 3 по метрике линеаризованных лайков. Видно ли отличие? Стало ли 𝑝−𝑣𝑎𝑙𝑢𝑒 меньше?\n",
    "2. Проанализируйте тест между группами 1 и 2 по метрике линеаризованных лайков. Видно ли отличие? Стало ли 𝑝−𝑣𝑎𝑙𝑢𝑒 меньше?"
   ]
  },
  {
   "cell_type": "code",
   "execution_count": 59,
   "id": "500fa755",
   "metadata": {},
   "outputs": [],
   "source": [
    "import pandahouse as ph\n",
    "import pandas as pd\n",
    "from scipy import stats"
   ]
  },
  {
   "cell_type": "code",
   "execution_count": 2,
   "id": "fab37c80",
   "metadata": {},
   "outputs": [],
   "source": [
    "connection = {'host':'https://clickhouse.lab.karpov.courses',\n",
    "              'database':'simulator_20230120',\n",
    "              'user':'student',\n",
    "              'password':'dpo_python_2020'\n",
    "             }"
   ]
  },
  {
   "cell_type": "code",
   "execution_count": 10,
   "id": "4cf2afc0",
   "metadata": {},
   "outputs": [],
   "source": [
    "query = '''\n",
    "select exp_group, \n",
    "    user_id, \n",
    "    sum(action = 'like') likes,\n",
    "    sum(action = 'view') views,\n",
    "    likes/views ctr\n",
    "from {db}.feed_actions \n",
    "where toDate(time) between '2023-01-01' and '2023-01-07'\n",
    "    and exp_group in (0, 1, 2, 3)\n",
    "group by exp_group, user_id \n",
    "'''"
   ]
  },
  {
   "cell_type": "code",
   "execution_count": 11,
   "id": "5b98b475",
   "metadata": {},
   "outputs": [],
   "source": [
    "df = ph.read_clickhouse(query, connection = connection)"
   ]
  },
  {
   "cell_type": "code",
   "execution_count": 13,
   "id": "f2f17050",
   "metadata": {},
   "outputs": [
    {
     "data": {
      "text/html": [
       "<div>\n",
       "<style scoped>\n",
       "    .dataframe tbody tr th:only-of-type {\n",
       "        vertical-align: middle;\n",
       "    }\n",
       "\n",
       "    .dataframe tbody tr th {\n",
       "        vertical-align: top;\n",
       "    }\n",
       "\n",
       "    .dataframe thead th {\n",
       "        text-align: right;\n",
       "    }\n",
       "</style>\n",
       "<table border=\"1\" class=\"dataframe\">\n",
       "  <thead>\n",
       "    <tr style=\"text-align: right;\">\n",
       "      <th></th>\n",
       "      <th>exp_group</th>\n",
       "      <th>user_id</th>\n",
       "      <th>likes</th>\n",
       "      <th>views</th>\n",
       "      <th>ctr</th>\n",
       "    </tr>\n",
       "  </thead>\n",
       "  <tbody>\n",
       "    <tr>\n",
       "      <th>0</th>\n",
       "      <td>3</td>\n",
       "      <td>115383</td>\n",
       "      <td>9</td>\n",
       "      <td>30</td>\n",
       "      <td>0.300000</td>\n",
       "    </tr>\n",
       "    <tr>\n",
       "      <th>1</th>\n",
       "      <td>1</td>\n",
       "      <td>18392</td>\n",
       "      <td>7</td>\n",
       "      <td>32</td>\n",
       "      <td>0.218750</td>\n",
       "    </tr>\n",
       "    <tr>\n",
       "      <th>2</th>\n",
       "      <td>2</td>\n",
       "      <td>131473</td>\n",
       "      <td>14</td>\n",
       "      <td>134</td>\n",
       "      <td>0.104478</td>\n",
       "    </tr>\n",
       "    <tr>\n",
       "      <th>3</th>\n",
       "      <td>3</td>\n",
       "      <td>123580</td>\n",
       "      <td>13</td>\n",
       "      <td>48</td>\n",
       "      <td>0.270833</td>\n",
       "    </tr>\n",
       "    <tr>\n",
       "      <th>4</th>\n",
       "      <td>2</td>\n",
       "      <td>32420</td>\n",
       "      <td>26</td>\n",
       "      <td>128</td>\n",
       "      <td>0.203125</td>\n",
       "    </tr>\n",
       "  </tbody>\n",
       "</table>\n",
       "</div>"
      ],
      "text/plain": [
       "   exp_group  user_id  likes  views       ctr\n",
       "0          3   115383      9     30  0.300000\n",
       "1          1    18392      7     32  0.218750\n",
       "2          2   131473     14    134  0.104478\n",
       "3          3   123580     13     48  0.270833\n",
       "4          2    32420     26    128  0.203125"
      ]
     },
     "execution_count": 13,
     "metadata": {},
     "output_type": "execute_result"
    }
   ],
   "source": [
    "df.head()"
   ]
  },
  {
   "cell_type": "markdown",
   "id": "54bdba39",
   "metadata": {},
   "source": [
    "### <center>Тест между группами 0 и 3."
   ]
  },
  {
   "cell_type": "code",
   "execution_count": 46,
   "id": "d7786959",
   "metadata": {},
   "outputs": [],
   "source": [
    "df1 = df.query('exp_group==0 | exp_group==3').copy()"
   ]
  },
  {
   "cell_type": "markdown",
   "id": "88ef67ad",
   "metadata": {},
   "source": [
    "0 - контрольная группа, считаем для нее глобальный $𝐶𝑇𝑅_{control}$ :"
   ]
  },
  {
   "cell_type": "code",
   "execution_count": 48,
   "id": "a70e4a7e",
   "metadata": {},
   "outputs": [],
   "source": [
    "ctr_control_0 = df1[df1['exp_group'] == 0].likes.sum() / df1[df1['exp_group'] == 0].views.sum()"
   ]
  },
  {
   "cell_type": "markdown",
   "id": "cabe87ce",
   "metadata": {},
   "source": [
    "Посчитаем в обеих группах поюзерную метрику 𝑙𝑖𝑛𝑒𝑎𝑟𝑖𝑧𝑒𝑑_𝑙𝑖𝑘𝑒𝑠 и добавим в датафрейм:"
   ]
  },
  {
   "cell_type": "code",
   "execution_count": 49,
   "id": "c087e321",
   "metadata": {},
   "outputs": [],
   "source": [
    "linearized_likes_0 = df1[df1['exp_group'] == 0].likes - ctr_control_0 * df1[df1['exp_group'] == 0].views\n",
    "linearized_likes_3 = df1[df1['exp_group'] == 3].likes - ctr_control_0 * df1[df1['exp_group'] == 3].views"
   ]
  },
  {
   "cell_type": "code",
   "execution_count": 51,
   "id": "384ec98e",
   "metadata": {},
   "outputs": [],
   "source": [
    "df1.loc[df1['exp_group'] == 0,'linearized_likes'] = linearized_likes_0\n",
    "df1.loc[df1['exp_group'] == 3,'linearized_likes'] = linearized_likes_3"
   ]
  },
  {
   "cell_type": "code",
   "execution_count": 52,
   "id": "1474134f",
   "metadata": {},
   "outputs": [
    {
     "data": {
      "text/html": [
       "<div>\n",
       "<style scoped>\n",
       "    .dataframe tbody tr th:only-of-type {\n",
       "        vertical-align: middle;\n",
       "    }\n",
       "\n",
       "    .dataframe tbody tr th {\n",
       "        vertical-align: top;\n",
       "    }\n",
       "\n",
       "    .dataframe thead th {\n",
       "        text-align: right;\n",
       "    }\n",
       "</style>\n",
       "<table border=\"1\" class=\"dataframe\">\n",
       "  <thead>\n",
       "    <tr style=\"text-align: right;\">\n",
       "      <th></th>\n",
       "      <th>exp_group</th>\n",
       "      <th>user_id</th>\n",
       "      <th>likes</th>\n",
       "      <th>views</th>\n",
       "      <th>ctr</th>\n",
       "      <th>linearized_likes</th>\n",
       "    </tr>\n",
       "  </thead>\n",
       "  <tbody>\n",
       "    <tr>\n",
       "      <th>0</th>\n",
       "      <td>3</td>\n",
       "      <td>115383</td>\n",
       "      <td>9</td>\n",
       "      <td>30</td>\n",
       "      <td>0.300000</td>\n",
       "      <td>2.752916</td>\n",
       "    </tr>\n",
       "    <tr>\n",
       "      <th>3</th>\n",
       "      <td>3</td>\n",
       "      <td>123580</td>\n",
       "      <td>13</td>\n",
       "      <td>48</td>\n",
       "      <td>0.270833</td>\n",
       "      <td>3.004666</td>\n",
       "    </tr>\n",
       "    <tr>\n",
       "      <th>6</th>\n",
       "      <td>0</td>\n",
       "      <td>30319</td>\n",
       "      <td>21</td>\n",
       "      <td>110</td>\n",
       "      <td>0.190909</td>\n",
       "      <td>-1.905973</td>\n",
       "    </tr>\n",
       "    <tr>\n",
       "      <th>8</th>\n",
       "      <td>3</td>\n",
       "      <td>118359</td>\n",
       "      <td>7</td>\n",
       "      <td>38</td>\n",
       "      <td>0.184211</td>\n",
       "      <td>-0.912973</td>\n",
       "    </tr>\n",
       "    <tr>\n",
       "      <th>10</th>\n",
       "      <td>0</td>\n",
       "      <td>7626</td>\n",
       "      <td>14</td>\n",
       "      <td>39</td>\n",
       "      <td>0.358974</td>\n",
       "      <td>5.878791</td>\n",
       "    </tr>\n",
       "  </tbody>\n",
       "</table>\n",
       "</div>"
      ],
      "text/plain": [
       "    exp_group  user_id  likes  views       ctr  linearized_likes\n",
       "0           3   115383      9     30  0.300000          2.752916\n",
       "3           3   123580     13     48  0.270833          3.004666\n",
       "6           0    30319     21    110  0.190909         -1.905973\n",
       "8           3   118359      7     38  0.184211         -0.912973\n",
       "10          0     7626     14     39  0.358974          5.878791"
      ]
     },
     "execution_count": 52,
     "metadata": {},
     "output_type": "execute_result"
    }
   ],
   "source": [
    "df1.head()"
   ]
  },
  {
   "cell_type": "markdown",
   "id": "623033e2",
   "metadata": {},
   "source": [
    "Выполним тесты Стьюдента по метрикам CTR и метрике линеаризованных лайков:"
   ]
  },
  {
   "cell_type": "code",
   "execution_count": 53,
   "id": "77b069ad",
   "metadata": {},
   "outputs": [
    {
     "data": {
      "text/plain": [
       "Ttest_indResult(statistic=-13.896870721904069, pvalue=1.055849414662529e-43)"
      ]
     },
     "execution_count": 53,
     "metadata": {},
     "output_type": "execute_result"
    }
   ],
   "source": [
    "stats.ttest_ind(df1[df1['exp_group']==0].ctr, \n",
    "                df1[df1['exp_group']==3].ctr,\n",
    "                equal_var=False)"
   ]
  },
  {
   "cell_type": "code",
   "execution_count": 54,
   "id": "c68f9ffa",
   "metadata": {},
   "outputs": [
    {
     "data": {
      "text/plain": [
       "Ttest_indResult(statistic=-15.214995460903827, pvalue=5.4914249479690016e-52)"
      ]
     },
     "execution_count": 54,
     "metadata": {},
     "output_type": "execute_result"
    }
   ],
   "source": [
    "stats.ttest_ind(df1[df1['exp_group']==0].linearized_likes, \n",
    "                df1[df1['exp_group']==3].linearized_likes,\n",
    "                equal_var=False)"
   ]
  },
  {
   "cell_type": "markdown",
   "id": "8985761c",
   "metadata": {},
   "source": [
    " ### Выводы:\n",
    " - Оба теста по обеим метрикам показали статистически значимые различия между контрольной (0) и тестовой (3) группами.\n",
    " - p-value по метрике 𝑙𝑖𝑛𝑒𝑎𝑟𝑖𝑧𝑒𝑑_𝑙𝑖𝑘𝑒𝑠 стало меньше по сравнению с метрикой CTR."
   ]
  },
  {
   "cell_type": "markdown",
   "id": "82a358b2",
   "metadata": {},
   "source": [
    "### <center>Тест между группами 1 и 2."
   ]
  },
  {
   "cell_type": "code",
   "execution_count": 35,
   "id": "7b78c7c1",
   "metadata": {},
   "outputs": [],
   "source": [
    "df2 = df.query('exp_group==1 | exp_group==2').copy()"
   ]
  },
  {
   "cell_type": "code",
   "execution_count": 36,
   "id": "b8d654e4",
   "metadata": {},
   "outputs": [
    {
     "data": {
      "text/html": [
       "<div>\n",
       "<style scoped>\n",
       "    .dataframe tbody tr th:only-of-type {\n",
       "        vertical-align: middle;\n",
       "    }\n",
       "\n",
       "    .dataframe tbody tr th {\n",
       "        vertical-align: top;\n",
       "    }\n",
       "\n",
       "    .dataframe thead th {\n",
       "        text-align: right;\n",
       "    }\n",
       "</style>\n",
       "<table border=\"1\" class=\"dataframe\">\n",
       "  <thead>\n",
       "    <tr style=\"text-align: right;\">\n",
       "      <th></th>\n",
       "      <th>exp_group</th>\n",
       "      <th>user_id</th>\n",
       "      <th>likes</th>\n",
       "      <th>views</th>\n",
       "      <th>ctr</th>\n",
       "    </tr>\n",
       "  </thead>\n",
       "  <tbody>\n",
       "    <tr>\n",
       "      <th>0</th>\n",
       "      <td>3</td>\n",
       "      <td>115383</td>\n",
       "      <td>9</td>\n",
       "      <td>30</td>\n",
       "      <td>0.300000</td>\n",
       "    </tr>\n",
       "    <tr>\n",
       "      <th>1</th>\n",
       "      <td>1</td>\n",
       "      <td>18392</td>\n",
       "      <td>7</td>\n",
       "      <td>32</td>\n",
       "      <td>0.218750</td>\n",
       "    </tr>\n",
       "    <tr>\n",
       "      <th>2</th>\n",
       "      <td>2</td>\n",
       "      <td>131473</td>\n",
       "      <td>14</td>\n",
       "      <td>134</td>\n",
       "      <td>0.104478</td>\n",
       "    </tr>\n",
       "    <tr>\n",
       "      <th>3</th>\n",
       "      <td>3</td>\n",
       "      <td>123580</td>\n",
       "      <td>13</td>\n",
       "      <td>48</td>\n",
       "      <td>0.270833</td>\n",
       "    </tr>\n",
       "    <tr>\n",
       "      <th>4</th>\n",
       "      <td>2</td>\n",
       "      <td>32420</td>\n",
       "      <td>26</td>\n",
       "      <td>128</td>\n",
       "      <td>0.203125</td>\n",
       "    </tr>\n",
       "  </tbody>\n",
       "</table>\n",
       "</div>"
      ],
      "text/plain": [
       "   exp_group  user_id  likes  views       ctr\n",
       "0          3   115383      9     30  0.300000\n",
       "1          1    18392      7     32  0.218750\n",
       "2          2   131473     14    134  0.104478\n",
       "3          3   123580     13     48  0.270833\n",
       "4          2    32420     26    128  0.203125"
      ]
     },
     "execution_count": 36,
     "metadata": {},
     "output_type": "execute_result"
    }
   ],
   "source": [
    "df.head()"
   ]
  },
  {
   "cell_type": "markdown",
   "id": "8b953bee",
   "metadata": {},
   "source": [
    "1 - контрольная группа, считаем для нее глобальный $𝐶𝑇𝑅_{control}$ :"
   ]
  },
  {
   "cell_type": "code",
   "execution_count": 56,
   "id": "53da75a3",
   "metadata": {},
   "outputs": [],
   "source": [
    "ctr_control_1 = df2[df2['exp_group'] == 1].likes.sum() / df2[df2['exp_group'] == 1].views.sum()"
   ]
  },
  {
   "cell_type": "markdown",
   "id": "6aafeb43",
   "metadata": {},
   "source": [
    "Посчитаем в обеих группах поюзерную метрику 𝑙𝑖𝑛𝑒𝑎𝑟𝑖𝑧𝑒𝑑_𝑙𝑖𝑘𝑒𝑠 и добавим в датафрейм:"
   ]
  },
  {
   "cell_type": "code",
   "execution_count": 58,
   "id": "e2cb80eb",
   "metadata": {},
   "outputs": [],
   "source": [
    "linearized_likes_1 = df2[df2['exp_group'] == 1].likes - ctr_control_1 * df2[df2['exp_group'] == 1].views\n",
    "linearized_likes_2 = df2[df2['exp_group'] == 2].likes - ctr_control_1 * df2[df2['exp_group'] == 2].views"
   ]
  },
  {
   "cell_type": "code",
   "execution_count": 61,
   "id": "ca11f899",
   "metadata": {},
   "outputs": [],
   "source": [
    "df2.loc[df2['exp_group'] == 1,'linearized_likes'] = linearized_likes_1\n",
    "df2.loc[df2['exp_group'] == 2,'linearized_likes'] = linearized_likes_2"
   ]
  },
  {
   "cell_type": "code",
   "execution_count": 64,
   "id": "db16af0e",
   "metadata": {},
   "outputs": [
    {
     "data": {
      "text/html": [
       "<div>\n",
       "<style scoped>\n",
       "    .dataframe tbody tr th:only-of-type {\n",
       "        vertical-align: middle;\n",
       "    }\n",
       "\n",
       "    .dataframe tbody tr th {\n",
       "        vertical-align: top;\n",
       "    }\n",
       "\n",
       "    .dataframe thead th {\n",
       "        text-align: right;\n",
       "    }\n",
       "</style>\n",
       "<table border=\"1\" class=\"dataframe\">\n",
       "  <thead>\n",
       "    <tr style=\"text-align: right;\">\n",
       "      <th></th>\n",
       "      <th>exp_group</th>\n",
       "      <th>user_id</th>\n",
       "      <th>likes</th>\n",
       "      <th>views</th>\n",
       "      <th>ctr</th>\n",
       "      <th>linearized_likes</th>\n",
       "    </tr>\n",
       "  </thead>\n",
       "  <tbody>\n",
       "    <tr>\n",
       "      <th>1</th>\n",
       "      <td>1</td>\n",
       "      <td>18392</td>\n",
       "      <td>7</td>\n",
       "      <td>32</td>\n",
       "      <td>0.218750</td>\n",
       "      <td>0.343142</td>\n",
       "    </tr>\n",
       "    <tr>\n",
       "      <th>2</th>\n",
       "      <td>2</td>\n",
       "      <td>131473</td>\n",
       "      <td>14</td>\n",
       "      <td>134</td>\n",
       "      <td>0.104478</td>\n",
       "      <td>-13.875592</td>\n",
       "    </tr>\n",
       "    <tr>\n",
       "      <th>4</th>\n",
       "      <td>2</td>\n",
       "      <td>32420</td>\n",
       "      <td>26</td>\n",
       "      <td>128</td>\n",
       "      <td>0.203125</td>\n",
       "      <td>-0.627431</td>\n",
       "    </tr>\n",
       "    <tr>\n",
       "      <th>5</th>\n",
       "      <td>2</td>\n",
       "      <td>24239</td>\n",
       "      <td>40</td>\n",
       "      <td>90</td>\n",
       "      <td>0.444444</td>\n",
       "      <td>21.277588</td>\n",
       "    </tr>\n",
       "    <tr>\n",
       "      <th>7</th>\n",
       "      <td>1</td>\n",
       "      <td>27443</td>\n",
       "      <td>2</td>\n",
       "      <td>29</td>\n",
       "      <td>0.068966</td>\n",
       "      <td>-4.032777</td>\n",
       "    </tr>\n",
       "  </tbody>\n",
       "</table>\n",
       "</div>"
      ],
      "text/plain": [
       "   exp_group  user_id  likes  views       ctr  linearized_likes\n",
       "1          1    18392      7     32  0.218750          0.343142\n",
       "2          2   131473     14    134  0.104478        -13.875592\n",
       "4          2    32420     26    128  0.203125         -0.627431\n",
       "5          2    24239     40     90  0.444444         21.277588\n",
       "7          1    27443      2     29  0.068966         -4.032777"
      ]
     },
     "execution_count": 64,
     "metadata": {},
     "output_type": "execute_result"
    }
   ],
   "source": [
    "df2.head()"
   ]
  },
  {
   "cell_type": "markdown",
   "id": "eabc8fd3",
   "metadata": {},
   "source": [
    "Выполним тесты Стьюдента по метрикам CTR и метрике линеаризованных лайков:"
   ]
  },
  {
   "cell_type": "code",
   "execution_count": 66,
   "id": "7b75ae41",
   "metadata": {},
   "outputs": [
    {
     "data": {
      "text/plain": [
       "Ttest_indResult(statistic=0.7094392041270485, pvalue=0.4780623130874935)"
      ]
     },
     "execution_count": 66,
     "metadata": {},
     "output_type": "execute_result"
    }
   ],
   "source": [
    "stats.ttest_ind(df2[df2['exp_group']==1].ctr, \n",
    "                df2[df2['exp_group']==2].ctr,\n",
    "                equal_var=False)"
   ]
  },
  {
   "cell_type": "code",
   "execution_count": 67,
   "id": "1331908e",
   "metadata": {},
   "outputs": [
    {
     "data": {
      "text/plain": [
       "Ttest_indResult(statistic=6.122579994775974, pvalue=9.439432187037644e-10)"
      ]
     },
     "execution_count": 67,
     "metadata": {},
     "output_type": "execute_result"
    }
   ],
   "source": [
    "stats.ttest_ind(df2[df2['exp_group']==1].linearized_likes, \n",
    "                df2[df2['exp_group']==2].linearized_likes,\n",
    "                equal_var=False)"
   ]
  },
  {
   "cell_type": "markdown",
   "id": "493fdf5d",
   "metadata": {},
   "source": [
    " ### Выводы:\n",
    " - Только тест по метрике линеаризованных лайков показали статистически значимые различия между контрольной (0) и тестовой (3) группами.\n",
    " - p-value по метрике 𝑙𝑖𝑛𝑒𝑎𝑟𝑖𝑧𝑒𝑑_𝑙𝑖𝑘𝑒𝑠 стало на порядки меньше по сравнению с метрикой CTR."
   ]
  },
  {
   "cell_type": "markdown",
   "id": "633baf86",
   "metadata": {},
   "source": [
    "Эмперически доказано что метод линеаризации метрики позволяет значительно увеличить чувствительность t критерия.  И при этом гарантируется (в отличие сглаживания Лапласа), что если тест на этой другой метрике «прокрасится» и увидит изменения, значит изменения есть и в метрике исходной (то есть в лайках на пользователя и в пользовательских CTR)"
   ]
  }
 ],
 "metadata": {
  "kernelspec": {
   "display_name": "Python 3 (ipykernel)",
   "language": "python",
   "name": "python3"
  },
  "language_info": {
   "codemirror_mode": {
    "name": "ipython",
    "version": 3
   },
   "file_extension": ".py",
   "mimetype": "text/x-python",
   "name": "python",
   "nbconvert_exporter": "python",
   "pygments_lexer": "ipython3",
   "version": "3.8.10"
  }
 },
 "nbformat": 4,
 "nbformat_minor": 5
}
